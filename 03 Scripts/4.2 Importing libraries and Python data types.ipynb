{
 "cells": [
  {
   "cell_type": "markdown",
   "id": "8bbdaf81-21cf-4944-b472-a4f4fd1f0933",
   "metadata": {},
   "source": [
    "#01.Importing Libraries"
   ]
  },
  {
   "cell_type": "code",
   "execution_count": 3,
   "id": "d864d50a-e041-4ca1-923f-1a092cdecd43",
   "metadata": {},
   "outputs": [],
   "source": [
    "# Import libraries\n",
    "import pandas as pd\n",
    "import numpy as np\n",
    "import os"
   ]
  },
  {
   "cell_type": "code",
   "execution_count": 27,
   "id": "441cb3c4-f5a3-49b2-98ba-aa4778d22731",
   "metadata": {},
   "outputs": [],
   "source": [
    "#02.Data Types"
   ]
  },
  {
   "cell_type": "code",
   "execution_count": 28,
   "id": "7f1dc7c2-a63b-4c33-bbf6-686b54bebd77",
   "metadata": {},
   "outputs": [],
   "source": [
    "#Code 3 different ways of reaching a result of 100 "
   ]
  },
  {
   "cell_type": "code",
   "execution_count": 29,
   "id": "f46b910c-134c-4ee7-aa4b-b4e17d738b9e",
   "metadata": {},
   "outputs": [],
   "source": [
    "x= 50"
   ]
  },
  {
   "cell_type": "code",
   "execution_count": 30,
   "id": "f98fcd92-8bc4-42ba-bfc6-aa809f371cd2",
   "metadata": {},
   "outputs": [],
   "source": [
    "y = 50"
   ]
  },
  {
   "cell_type": "code",
   "execution_count": 31,
   "id": "7dacb6a2-4be6-4cc8-a8d0-5a22e1ecad7e",
   "metadata": {},
   "outputs": [
    {
     "name": "stdout",
     "output_type": "stream",
     "text": [
      "100\n"
     ]
    }
   ],
   "source": [
    "print(x+y)"
   ]
  },
  {
   "cell_type": "code",
   "execution_count": 32,
   "id": "c36bbc4b-52d4-433e-bc20-a4fda3e0513c",
   "metadata": {},
   "outputs": [],
   "source": [
    "a= 200"
   ]
  },
  {
   "cell_type": "code",
   "execution_count": 33,
   "id": "4dfefda6-ae84-4fb4-8ed1-a6ceb535b59d",
   "metadata": {},
   "outputs": [],
   "source": [
    "b=100"
   ]
  },
  {
   "cell_type": "code",
   "execution_count": 34,
   "id": "3f018ccc-b8bc-44cc-a007-523e7139137c",
   "metadata": {},
   "outputs": [],
   "source": [
    "result = a-b"
   ]
  },
  {
   "cell_type": "code",
   "execution_count": 35,
   "id": "ce3ea3a9-e978-4232-9a37-c086b86d91ca",
   "metadata": {},
   "outputs": [
    {
     "name": "stdout",
     "output_type": "stream",
     "text": [
      "100\n"
     ]
    }
   ],
   "source": [
    "print(result)"
   ]
  },
  {
   "cell_type": "code",
   "execution_count": 36,
   "id": "30e47833-d09b-44ee-af4b-10de486994e3",
   "metadata": {},
   "outputs": [],
   "source": [
    "c= 150"
   ]
  },
  {
   "cell_type": "code",
   "execution_count": 37,
   "id": "f0a21c9f-fbab-4279-a234-19bd90f74ff6",
   "metadata": {},
   "outputs": [],
   "source": [
    "d=60"
   ]
  },
  {
   "cell_type": "code",
   "execution_count": 38,
   "id": "c981691e-c036-41b0-881d-6ce2b21404f8",
   "metadata": {},
   "outputs": [],
   "source": [
    "e=10"
   ]
  },
  {
   "cell_type": "code",
   "execution_count": 39,
   "id": "24a1dd02-eaae-4195-b78c-5f6bd8a2294a",
   "metadata": {},
   "outputs": [],
   "source": [
    "result = c-d +e "
   ]
  },
  {
   "cell_type": "code",
   "execution_count": 40,
   "id": "d4054b32-b34b-468a-b1cd-126bbe5a125b",
   "metadata": {},
   "outputs": [
    {
     "name": "stdout",
     "output_type": "stream",
     "text": [
      "100\n"
     ]
    }
   ],
   "source": [
    "print(result)"
   ]
  },
  {
   "cell_type": "code",
   "execution_count": 41,
   "id": "04ffa4c5-3dd6-4ea8-ba14-0bdd8928244d",
   "metadata": {},
   "outputs": [],
   "source": [
    "#Step 8 -Code 2 floating-point variables and divide them"
   ]
  },
  {
   "cell_type": "code",
   "execution_count": 42,
   "id": "9c3a8467-e11a-4593-a174-a15f661f4a0e",
   "metadata": {},
   "outputs": [],
   "source": [
    "x=10.5"
   ]
  },
  {
   "cell_type": "code",
   "execution_count": 43,
   "id": "2cb5c157-3acf-46bf-9d0e-fafb67a44e8a",
   "metadata": {},
   "outputs": [],
   "source": [
    "y= 2.5"
   ]
  },
  {
   "cell_type": "code",
   "execution_count": 44,
   "id": "6c2c69b1-0fdf-400e-b064-865dcada019d",
   "metadata": {},
   "outputs": [],
   "source": [
    "result = x/y"
   ]
  },
  {
   "cell_type": "code",
   "execution_count": 45,
   "id": "8e3bed90-73f0-4286-93af-e313f8baa1e7",
   "metadata": {},
   "outputs": [
    {
     "name": "stdout",
     "output_type": "stream",
     "text": [
      "4.2\n"
     ]
    }
   ],
   "source": [
    "print(result)"
   ]
  },
  {
   "cell_type": "code",
   "execution_count": 46,
   "id": "c6b2fa70-5723-48e9-b2fa-86756f4f9a1a",
   "metadata": {},
   "outputs": [],
   "source": [
    "#Step 9 -Construct a short word made of separate strings "
   ]
  },
  {
   "cell_type": "code",
   "execution_count": 47,
   "id": "92b659cd-b551-4fbd-924f-86f281e8b693",
   "metadata": {},
   "outputs": [],
   "source": [
    "a = 'Python '"
   ]
  },
  {
   "cell_type": "code",
   "execution_count": 48,
   "id": "426f9979-f1e0-481d-80f7-c339d61c3c17",
   "metadata": {},
   "outputs": [],
   "source": [
    "b= 'Data '"
   ]
  },
  {
   "cell_type": "code",
   "execution_count": 49,
   "id": "99754692-2932-4f17-b9f4-7ffe35633bce",
   "metadata": {},
   "outputs": [],
   "source": [
    "c= 'Types'"
   ]
  },
  {
   "cell_type": "code",
   "execution_count": 50,
   "id": "ce396011-204f-4c36-abc1-12ac6809b738",
   "metadata": {},
   "outputs": [],
   "source": [
    "result = a+b+c"
   ]
  },
  {
   "cell_type": "code",
   "execution_count": 51,
   "id": "592aea42-3b22-4096-99f1-fccc6af5f47c",
   "metadata": {},
   "outputs": [
    {
     "name": "stdout",
     "output_type": "stream",
     "text": [
      "Python Data Types\n"
     ]
    }
   ],
   "source": [
    "print(result)"
   ]
  },
  {
   "cell_type": "code",
   "execution_count": 52,
   "id": "57fe9485-e6f3-423b-91c8-4e03b52426c8",
   "metadata": {},
   "outputs": [],
   "source": [
    "#Step 10- Construct 2 short sentences made of separate strings"
   ]
  },
  {
   "cell_type": "code",
   "execution_count": 53,
   "id": "ab44e416-c89c-48a8-8733-9f4d0a48e16c",
   "metadata": {},
   "outputs": [],
   "source": [
    "x = 'Python is a versatile coding language.'"
   ]
  },
  {
   "cell_type": "code",
   "execution_count": 54,
   "id": "868e8741-fa3d-4f64-8eec-9f8dbc9068d4",
   "metadata": {},
   "outputs": [],
   "source": [
    "y = 'It is helpful for Data Analysis.'"
   ]
  },
  {
   "cell_type": "code",
   "execution_count": 55,
   "id": "04fca85c-97cc-4588-88e4-613ab89fa59d",
   "metadata": {},
   "outputs": [
    {
     "name": "stdout",
     "output_type": "stream",
     "text": [
      "Python is a versatile coding language.It is helpful for Data Analysis.\n"
     ]
    }
   ],
   "source": [
    "print(x+y)"
   ]
  },
  {
   "cell_type": "code",
   "execution_count": 56,
   "id": "36c247b2-6e0f-4e1c-bee4-3ddfcfe803eb",
   "metadata": {},
   "outputs": [],
   "source": [
    "#Bonus Task "
   ]
  },
  {
   "cell_type": "code",
   "execution_count": 59,
   "id": "0bfe8b84-9c0b-4576-bb00-8f1c25e0f68d",
   "metadata": {},
   "outputs": [],
   "source": [
    "# Bonus Task"
   ]
  },
  {
   "cell_type": "code",
   "execution_count": 57,
   "id": "eea58a75-6331-4cfe-8bed-282ae24b3cad",
   "metadata": {},
   "outputs": [],
   "source": [
    "x='data types'"
   ]
  },
  {
   "cell_type": "code",
   "execution_count": 58,
   "id": "655a64f5-55a7-4112-8ee7-4af79233cde9",
   "metadata": {},
   "outputs": [
    {
     "name": "stdout",
     "output_type": "stream",
     "text": [
      "data typesdata typesdata typesdata typesdata typesdata typesdata typesdata typesdata typesdata typesdata typesdata typesdata typesdata typesdata typesdata typesdata typesdata typesdata typesdata typesdata typesdata typesdata typesdata typesdata typesdata typesdata typesdata typesdata typesdata typesdata typesdata typesdata typesdata typesdata typesdata typesdata typesdata typesdata typesdata typesdata typesdata typesdata typesdata typesdata typesdata typesdata typesdata typesdata typesdata typesdata typesdata typesdata typesdata typesdata typesdata typesdata typesdata typesdata typesdata typesdata typesdata typesdata typesdata typesdata typesdata typesdata typesdata typesdata typesdata typesdata typesdata typesdata typesdata typesdata typesdata typesdata typesdata typesdata typesdata typesdata typesdata typesdata typesdata typesdata typesdata typesdata typesdata typesdata typesdata typesdata typesdata typesdata typesdata typesdata typesdata typesdata typesdata typesdata typesdata types\n"
     ]
    }
   ],
   "source": [
    "print(x*100)"
   ]
  },
  {
   "cell_type": "code",
   "execution_count": null,
   "id": "89550713-3249-407e-bf58-7a3d07617ab2",
   "metadata": {},
   "outputs": [],
   "source": []
  }
 ],
 "metadata": {
  "kernelspec": {
   "display_name": "Python 3 (ipykernel)",
   "language": "python",
   "name": "python3"
  },
  "language_info": {
   "codemirror_mode": {
    "name": "ipython",
    "version": 3
   },
   "file_extension": ".py",
   "mimetype": "text/x-python",
   "name": "python",
   "nbconvert_exporter": "python",
   "pygments_lexer": "ipython3",
   "version": "3.12.7"
  }
 },
 "nbformat": 4,
 "nbformat_minor": 5
}
