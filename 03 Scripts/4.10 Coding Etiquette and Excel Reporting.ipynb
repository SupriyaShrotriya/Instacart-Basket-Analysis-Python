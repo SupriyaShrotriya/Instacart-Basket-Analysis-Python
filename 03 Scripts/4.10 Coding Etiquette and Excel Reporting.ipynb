{
 "cells": [
  {
   "cell_type": "markdown",
   "id": "60f7eb14-ff70-44fe-bd5f-57d4684419ea",
   "metadata": {},
   "source": [
    "# Table of Contents\n",
    "Step 1: Setup and Libraries\n",
    "\n",
    "Step 2: Data Import\n",
    "\n",
    "Step 3: PII privacy checks\n",
    "\n",
    "Step 4: Regional Sales\n",
    "\n",
    "Step 5: High vs. Low Activity Customers\n",
    "\n",
    "Step 6: Creating customer profiles\n",
    "        Age profile\n",
    "        Income profile\n",
    "        Number of dependents profile\n",
    "        Departments profiles - Baby, Pet items\n",
    "\n",
    "Step 7 :Compare your customer profiles with regions and departments. \n",
    "\n",
    "Step 8: Export Data"
   ]
  },
  {
   "cell_type": "markdown",
   "id": "108d4b91-1ca3-48ba-ad50-405bc1f1c71d",
   "metadata": {},
   "source": [
    "# Step 1 Setup and Libraries"
   ]
  },
  {
   "cell_type": "code",
   "execution_count": 1,
   "id": "25e229f4-24ea-4c08-848b-dde5762a7f5d",
   "metadata": {},
   "outputs": [],
   "source": [
    "# Importing libraries\n",
    "\n",
    "import pandas as pd\n",
    "import numpy as np\n",
    "import os\n",
    "import matplotlib.pyplot as plt\n",
    "import seaborn as sns\n",
    "import scipy"
   ]
  },
  {
   "cell_type": "markdown",
   "id": "dd38b257-d2e9-46c4-8dff-e2a18b53f41e",
   "metadata": {},
   "source": [
    "# Step 2 Data Import"
   ]
  },
  {
   "cell_type": "code",
   "execution_count": 2,
   "id": "26911240-9352-4a60-921a-74c054d23f5b",
   "metadata": {},
   "outputs": [],
   "source": [
    "#Create path\n",
    "path= r'C:\\Users\\supri\\Desktop\\Supriya\\DataAnalysis\\Project\\Data Immersion\\Achievement 1-2\\Instacart_Basket_Analysis'"
   ]
  },
  {
   "cell_type": "code",
   "execution_count": 3,
   "id": "ec620b8e-231b-4518-96ff-4c18c33d705b",
   "metadata": {},
   "outputs": [],
   "source": [
    "# Importing the data set with new customer columns from Exercise 4.9 -ordrs_prods_customers_merged.pkl\n",
    "ords_prods_customers = pd.read_pickle(os.path.join(path, '02 Data', 'Prepared Data', 'ordrs_prods_customers_merged.pkl'))"
   ]
  },
  {
   "cell_type": "code",
   "execution_count": 4,
   "id": "ae91ace6-a667-4a80-a025-32ef2096ab4e",
   "metadata": {},
   "outputs": [
    {
     "data": {
      "text/plain": [
       "(32404859, 37)"
      ]
     },
     "execution_count": 4,
     "metadata": {},
     "output_type": "execute_result"
    }
   ],
   "source": [
    "#Check output\n",
    "ords_prods_customers.shape"
   ]
  },
  {
   "cell_type": "code",
   "execution_count": 5,
   "id": "f3fac29e-e2c9-435f-9583-89f5f0054439",
   "metadata": {},
   "outputs": [
    {
     "data": {
      "text/html": [
       "<div>\n",
       "<style scoped>\n",
       "    .dataframe tbody tr th:only-of-type {\n",
       "        vertical-align: middle;\n",
       "    }\n",
       "\n",
       "    .dataframe tbody tr th {\n",
       "        vertical-align: top;\n",
       "    }\n",
       "\n",
       "    .dataframe thead th {\n",
       "        text-align: right;\n",
       "    }\n",
       "</style>\n",
       "<table border=\"1\" class=\"dataframe\">\n",
       "  <thead>\n",
       "    <tr style=\"text-align: right;\">\n",
       "      <th></th>\n",
       "      <th>Unnamed: 0.1</th>\n",
       "      <th>order_id</th>\n",
       "      <th>user_id</th>\n",
       "      <th>eval_set</th>\n",
       "      <th>order_number</th>\n",
       "      <th>orders_days_of_week</th>\n",
       "      <th>order_hour_of_day</th>\n",
       "      <th>days_since_prior_order</th>\n",
       "      <th>first_time_customers</th>\n",
       "      <th>product_id</th>\n",
       "      <th>...</th>\n",
       "      <th>first_name</th>\n",
       "      <th>last_name</th>\n",
       "      <th>gender</th>\n",
       "      <th>state</th>\n",
       "      <th>age</th>\n",
       "      <th>date_joined</th>\n",
       "      <th>n_dependants</th>\n",
       "      <th>marital_status</th>\n",
       "      <th>income</th>\n",
       "      <th>_merge</th>\n",
       "    </tr>\n",
       "  </thead>\n",
       "  <tbody>\n",
       "    <tr>\n",
       "      <th>0</th>\n",
       "      <td>0</td>\n",
       "      <td>2539329</td>\n",
       "      <td>1</td>\n",
       "      <td>prior</td>\n",
       "      <td>1</td>\n",
       "      <td>2</td>\n",
       "      <td>8</td>\n",
       "      <td>NaN</td>\n",
       "      <td>True</td>\n",
       "      <td>196</td>\n",
       "      <td>...</td>\n",
       "      <td>Linda</td>\n",
       "      <td>Nguyen</td>\n",
       "      <td>Female</td>\n",
       "      <td>Alabama</td>\n",
       "      <td>31</td>\n",
       "      <td>2/17/2019</td>\n",
       "      <td>3</td>\n",
       "      <td>married</td>\n",
       "      <td>40423</td>\n",
       "      <td>both</td>\n",
       "    </tr>\n",
       "    <tr>\n",
       "      <th>1</th>\n",
       "      <td>0</td>\n",
       "      <td>2539329</td>\n",
       "      <td>1</td>\n",
       "      <td>prior</td>\n",
       "      <td>1</td>\n",
       "      <td>2</td>\n",
       "      <td>8</td>\n",
       "      <td>NaN</td>\n",
       "      <td>True</td>\n",
       "      <td>14084</td>\n",
       "      <td>...</td>\n",
       "      <td>Linda</td>\n",
       "      <td>Nguyen</td>\n",
       "      <td>Female</td>\n",
       "      <td>Alabama</td>\n",
       "      <td>31</td>\n",
       "      <td>2/17/2019</td>\n",
       "      <td>3</td>\n",
       "      <td>married</td>\n",
       "      <td>40423</td>\n",
       "      <td>both</td>\n",
       "    </tr>\n",
       "    <tr>\n",
       "      <th>2</th>\n",
       "      <td>0</td>\n",
       "      <td>2539329</td>\n",
       "      <td>1</td>\n",
       "      <td>prior</td>\n",
       "      <td>1</td>\n",
       "      <td>2</td>\n",
       "      <td>8</td>\n",
       "      <td>NaN</td>\n",
       "      <td>True</td>\n",
       "      <td>12427</td>\n",
       "      <td>...</td>\n",
       "      <td>Linda</td>\n",
       "      <td>Nguyen</td>\n",
       "      <td>Female</td>\n",
       "      <td>Alabama</td>\n",
       "      <td>31</td>\n",
       "      <td>2/17/2019</td>\n",
       "      <td>3</td>\n",
       "      <td>married</td>\n",
       "      <td>40423</td>\n",
       "      <td>both</td>\n",
       "    </tr>\n",
       "    <tr>\n",
       "      <th>3</th>\n",
       "      <td>0</td>\n",
       "      <td>2539329</td>\n",
       "      <td>1</td>\n",
       "      <td>prior</td>\n",
       "      <td>1</td>\n",
       "      <td>2</td>\n",
       "      <td>8</td>\n",
       "      <td>NaN</td>\n",
       "      <td>True</td>\n",
       "      <td>26088</td>\n",
       "      <td>...</td>\n",
       "      <td>Linda</td>\n",
       "      <td>Nguyen</td>\n",
       "      <td>Female</td>\n",
       "      <td>Alabama</td>\n",
       "      <td>31</td>\n",
       "      <td>2/17/2019</td>\n",
       "      <td>3</td>\n",
       "      <td>married</td>\n",
       "      <td>40423</td>\n",
       "      <td>both</td>\n",
       "    </tr>\n",
       "    <tr>\n",
       "      <th>4</th>\n",
       "      <td>0</td>\n",
       "      <td>2539329</td>\n",
       "      <td>1</td>\n",
       "      <td>prior</td>\n",
       "      <td>1</td>\n",
       "      <td>2</td>\n",
       "      <td>8</td>\n",
       "      <td>NaN</td>\n",
       "      <td>True</td>\n",
       "      <td>26405</td>\n",
       "      <td>...</td>\n",
       "      <td>Linda</td>\n",
       "      <td>Nguyen</td>\n",
       "      <td>Female</td>\n",
       "      <td>Alabama</td>\n",
       "      <td>31</td>\n",
       "      <td>2/17/2019</td>\n",
       "      <td>3</td>\n",
       "      <td>married</td>\n",
       "      <td>40423</td>\n",
       "      <td>both</td>\n",
       "    </tr>\n",
       "  </tbody>\n",
       "</table>\n",
       "<p>5 rows × 37 columns</p>\n",
       "</div>"
      ],
      "text/plain": [
       "   Unnamed: 0.1 order_id user_id eval_set  order_number  orders_days_of_week  \\\n",
       "0             0  2539329       1    prior             1                    2   \n",
       "1             0  2539329       1    prior             1                    2   \n",
       "2             0  2539329       1    prior             1                    2   \n",
       "3             0  2539329       1    prior             1                    2   \n",
       "4             0  2539329       1    prior             1                    2   \n",
       "\n",
       "   order_hour_of_day  days_since_prior_order  first_time_customers  \\\n",
       "0                  8                     NaN                  True   \n",
       "1                  8                     NaN                  True   \n",
       "2                  8                     NaN                  True   \n",
       "3                  8                     NaN                  True   \n",
       "4                  8                     NaN                  True   \n",
       "\n",
       "   product_id  ...  first_name  last_name  gender    state  age  date_joined  \\\n",
       "0         196  ...       Linda     Nguyen  Female  Alabama   31    2/17/2019   \n",
       "1       14084  ...       Linda     Nguyen  Female  Alabama   31    2/17/2019   \n",
       "2       12427  ...       Linda     Nguyen  Female  Alabama   31    2/17/2019   \n",
       "3       26088  ...       Linda     Nguyen  Female  Alabama   31    2/17/2019   \n",
       "4       26405  ...       Linda     Nguyen  Female  Alabama   31    2/17/2019   \n",
       "\n",
       "  n_dependants marital_status income _merge  \n",
       "0            3        married  40423   both  \n",
       "1            3        married  40423   both  \n",
       "2            3        married  40423   both  \n",
       "3            3        married  40423   both  \n",
       "4            3        married  40423   both  \n",
       "\n",
       "[5 rows x 37 columns]"
      ]
     },
     "execution_count": 5,
     "metadata": {},
     "output_type": "execute_result"
    }
   ],
   "source": [
    "#Check output\n",
    "ords_prods_customers.head()"
   ]
  },
  {
   "cell_type": "markdown",
   "id": "6d4d32a5-380e-46f5-9caf-70984c1cd853",
   "metadata": {},
   "source": [
    "# Step 3 PII privacy check\n",
    "Consider any security implications that might exist for this new data.Address any PII (personally identifiable information) data in the data before continuing your analysis."
   ]
  },
  {
   "cell_type": "code",
   "execution_count": 6,
   "id": "e5640e40-9cd4-45f2-969b-a3401dae9063",
   "metadata": {},
   "outputs": [
    {
     "data": {
      "text/plain": [
       "Index(['Unnamed: 0.1', 'order_id', 'user_id', 'eval_set', 'order_number',\n",
       "       'orders_days_of_week', 'order_hour_of_day', 'days_since_prior_order',\n",
       "       'first_time_customers', 'product_id', 'add_to_cart_order', 'reordered',\n",
       "       'product_name', 'aisle_id', 'department_id', 'prices', 'match',\n",
       "       'price_range_loc', 'busiest_day', 'busiest_days',\n",
       "       'busiest_period_of_day', 'max_order', 'loyalty_flag', 'average_price',\n",
       "       'spending_flag', 'customer_frequency', 'frequency_flag', 'first_name',\n",
       "       'last_name', 'gender', 'state', 'age', 'date_joined', 'n_dependants',\n",
       "       'marital_status', 'income', '_merge'],\n",
       "      dtype='object')"
      ]
     },
     "execution_count": 6,
     "metadata": {},
     "output_type": "execute_result"
    }
   ],
   "source": [
    "# Check columns \n",
    "ords_prods_customers.columns"
   ]
  },
  {
   "cell_type": "markdown",
   "id": "d979c85f-ebaa-4be0-b769-0a8335541110",
   "metadata": {},
   "source": [
    "## Observation - The merged dataset contains customers first and last names, making them identifiable and security PII issue. Since each customer already has a unique ID, including personal names is not necessary for analysis.After discussing with senior collegues,removing names can minimize security risks while working with the data."
   ]
  },
  {
   "cell_type": "code",
   "execution_count": 7,
   "id": "664a9583-5561-4d4c-b766-089a34bd90a6",
   "metadata": {},
   "outputs": [],
   "source": [
    "# Removing columns with PII data \n",
    "ords_prods_customers1 = ords_prods_customers.drop(columns = ['first_name','last_name'])"
   ]
  },
  {
   "cell_type": "code",
   "execution_count": 8,
   "id": "354b3286-2a6e-40df-a635-90dc5a5e42cb",
   "metadata": {},
   "outputs": [
    {
     "data": {
      "text/plain": [
       "(32404859, 35)"
      ]
     },
     "execution_count": 8,
     "metadata": {},
     "output_type": "execute_result"
    }
   ],
   "source": [
    "#Check output\n",
    "ords_prods_customers1.shape"
   ]
  },
  {
   "cell_type": "markdown",
   "id": "fd9d69d1-e106-4a68-9faa-99b4a29f5d51",
   "metadata": {},
   "source": [
    "# Step4 Regional Sales\n",
    "The Instacart officers are interested in comparing customer behavior in different geographic areas.Create a regional segmentation of the data.You’ll need to create a “Region” column based on the “State” column from your customers data set.\n",
    "Use the region information in this Wikipedia article to create your column (you only need to create regions, not divisions).\n",
    "Determine whether there’s a difference in spending habits between the different U.S. regions. (Hint: You can do this by crossing the variable you just created with the spending flag.)\n",
    "\n"
   ]
  },
  {
   "cell_type": "code",
   "execution_count": 9,
   "id": "d8badabb-e927-4de9-a406-a3dc3a526238",
   "metadata": {},
   "outputs": [],
   "source": [
    "# Defining regions (Northeast, Midwest, South and West) as per states referencing the wikipedia link provided.\n",
    "\n",
    "Northeast = ['Maine','New Hampshire','Vermont','Massachusetts','Rhode Island','Connecticut','New York','Pennsylvania','New Jersey']\n",
    "Midwest = ['Wisconsin','Michigan','Illinois','Indiana','Ohio','North Dakota','South Dakota','Nebraska','Kansas','Minnesota','Iowa','Missouri']\n",
    "South = ['Delaware','Maryland','District of Columbia','Virginia','West Virginia','North Carolina','South Carolina','Georgia','Florida','Kentucky','Tennessee','Mississippi','Alabama','Oklahoma','Texas','Arkansas','Louisiana']\n",
    "West = ['Idaho','Montana','Wyoming','Nevada','Utah','Colorado','Arizona','New Mexico','Alaska','Washington','Oregon','California','Hawaii']"
   ]
  },
  {
   "cell_type": "code",
   "execution_count": 10,
   "id": "6cb3e4f6-0328-45ff-bf1d-85829c75007c",
   "metadata": {},
   "outputs": [],
   "source": [
    "# Defining the new 'region' column using the four categories\n",
    "ords_prods_customers1.loc[ords_prods_customers1['state'].isin(Northeast), 'region'] = 'Northeast'"
   ]
  },
  {
   "cell_type": "code",
   "execution_count": 11,
   "id": "55f26948-00fa-4b2d-bfc3-4eff2c598750",
   "metadata": {},
   "outputs": [],
   "source": [
    "ords_prods_customers1.loc[ords_prods_customers1['state'].isin(Midwest), 'region'] = 'Midwest'"
   ]
  },
  {
   "cell_type": "code",
   "execution_count": 12,
   "id": "8019df2b-ad72-4c35-a300-b5a6d7813a6f",
   "metadata": {},
   "outputs": [],
   "source": [
    "ords_prods_customers1.loc[ords_prods_customers1['state'].isin(South), 'region'] = 'South'"
   ]
  },
  {
   "cell_type": "code",
   "execution_count": 13,
   "id": "be6c5858-a34d-492d-a1f4-6ddab1290cc7",
   "metadata": {},
   "outputs": [],
   "source": [
    "ords_prods_customers1.loc[ords_prods_customers1['state'].isin(West), 'region'] = 'West'"
   ]
  },
  {
   "cell_type": "code",
   "execution_count": 14,
   "id": "c5bc281f-ddc7-43b2-8e7e-ee2ecd6bb407",
   "metadata": {},
   "outputs": [
    {
     "data": {
      "text/plain": [
       "region\n",
       "South        10791885\n",
       "West          8292913\n",
       "Midwest       7597325\n",
       "Northeast     5722736\n",
       "Name: count, dtype: int64"
      ]
     },
     "execution_count": 14,
     "metadata": {},
     "output_type": "execute_result"
    }
   ],
   "source": [
    "# Checking the 'region' frequency count\n",
    "ords_prods_customers1['region'].value_counts(dropna=False)"
   ]
  },
  {
   "cell_type": "code",
   "execution_count": 15,
   "id": "d60765fb-9a35-4c7f-a874-ad4acdcf1abf",
   "metadata": {},
   "outputs": [
    {
     "data": {
      "text/plain": [
       "(32404859, 36)"
      ]
     },
     "execution_count": 15,
     "metadata": {},
     "output_type": "execute_result"
    }
   ],
   "source": [
    "#Check shape\n",
    "ords_prods_customers1.shape"
   ]
  },
  {
   "cell_type": "markdown",
   "id": "31c7459d-3d1a-4432-a072-98bd110b74e6",
   "metadata": {},
   "source": [
    "## Determine whether there's a difference in spending habits between the different U.S. regions."
   ]
  },
  {
   "cell_type": "code",
   "execution_count": 16,
   "id": "689eee91-8c6f-47ac-adc8-0c166858f558",
   "metadata": {},
   "outputs": [],
   "source": [
    "#Using crosstab to identify spending patterns between 'region' and 'spending_flag'\n",
    "crosstab = pd.crosstab(ords_prods_customers1['region'], ords_prods_customers1['spending_flag'], dropna = False)"
   ]
  },
  {
   "cell_type": "code",
   "execution_count": 17,
   "id": "fa55e77e-a840-4155-96ff-c117f5cf16b9",
   "metadata": {},
   "outputs": [],
   "source": [
    "# Saving crosstab to clipboard\n",
    "crosstab.to_clipboard()"
   ]
  },
  {
   "cell_type": "code",
   "execution_count": 18,
   "id": "ffd40334-6060-444c-9b49-bd7be5423f6a",
   "metadata": {},
   "outputs": [
    {
     "data": {
      "text/html": [
       "<div>\n",
       "<style scoped>\n",
       "    .dataframe tbody tr th:only-of-type {\n",
       "        vertical-align: middle;\n",
       "    }\n",
       "\n",
       "    .dataframe tbody tr th {\n",
       "        vertical-align: top;\n",
       "    }\n",
       "\n",
       "    .dataframe thead th {\n",
       "        text-align: right;\n",
       "    }\n",
       "</style>\n",
       "<table border=\"1\" class=\"dataframe\">\n",
       "  <thead>\n",
       "    <tr style=\"text-align: right;\">\n",
       "      <th>spending_flag</th>\n",
       "      <th>High_spender</th>\n",
       "      <th>Low_spender</th>\n",
       "    </tr>\n",
       "    <tr>\n",
       "      <th>region</th>\n",
       "      <th></th>\n",
       "      <th></th>\n",
       "    </tr>\n",
       "  </thead>\n",
       "  <tbody>\n",
       "    <tr>\n",
       "      <th>Midwest</th>\n",
       "      <td>155975</td>\n",
       "      <td>7441350</td>\n",
       "    </tr>\n",
       "    <tr>\n",
       "      <th>Northeast</th>\n",
       "      <td>108225</td>\n",
       "      <td>5614511</td>\n",
       "    </tr>\n",
       "    <tr>\n",
       "      <th>South</th>\n",
       "      <td>209691</td>\n",
       "      <td>10582194</td>\n",
       "    </tr>\n",
       "    <tr>\n",
       "      <th>West</th>\n",
       "      <td>160354</td>\n",
       "      <td>8132559</td>\n",
       "    </tr>\n",
       "  </tbody>\n",
       "</table>\n",
       "</div>"
      ],
      "text/plain": [
       "spending_flag  High_spender  Low_spender\n",
       "region                                  \n",
       "Midwest              155975      7441350\n",
       "Northeast            108225      5614511\n",
       "South                209691     10582194\n",
       "West                 160354      8132559"
      ]
     },
     "execution_count": 18,
     "metadata": {},
     "output_type": "execute_result"
    }
   ],
   "source": [
    "#Check ouptput\n",
    "crosstab"
   ]
  },
  {
   "cell_type": "markdown",
   "id": "9884a8a6-eb1c-43dc-8283-e7cb934078bd",
   "metadata": {},
   "source": [
    "### Observation -South has the highest numbers regarding High and Low spending habits. The Northeast shows the lowest numbers regarding High and Low spending habits."
   ]
  },
  {
   "cell_type": "markdown",
   "id": "fc884240-e4d0-4eb6-9fa9-94e21f7f8888",
   "metadata": {},
   "source": [
    "# Step 5 High and Low Activity Customers\n",
    "Create an exclusion flag for low-activity customers (customers with less than 5 orders) and exclude them from the data. "
   ]
  },
  {
   "cell_type": "code",
   "execution_count": 19,
   "id": "384a9e5c-2b8b-44c7-9d62-3249af6a3680",
   "metadata": {},
   "outputs": [],
   "source": [
    "# Define 'activity_flag' column using 'max_order' column \n",
    "ords_prods_customers1.loc[ords_prods_customers1['max_order'] < 5, 'activity_flag'] = 'Low activity'"
   ]
  },
  {
   "cell_type": "code",
   "execution_count": 20,
   "id": "0ccfe481-ab1b-4b14-8648-75619fcc3518",
   "metadata": {},
   "outputs": [],
   "source": [
    "ords_prods_customers1.loc[ords_prods_customers1['max_order'] >= 5, 'activity_flag'] = 'High activity'"
   ]
  },
  {
   "cell_type": "code",
   "execution_count": 21,
   "id": "3dab0bfb-f4d5-437d-a6d3-4e88745b2e65",
   "metadata": {},
   "outputs": [
    {
     "data": {
      "text/plain": [
       "activity_flag\n",
       "High activity    30964564\n",
       "Low activity      1440295\n",
       "Name: count, dtype: int64"
      ]
     },
     "execution_count": 21,
     "metadata": {},
     "output_type": "execute_result"
    }
   ],
   "source": [
    "# Checking the 'activity_flag' frequency counts\n",
    "ords_prods_customers1['activity_flag'].value_counts(dropna=False)"
   ]
  },
  {
   "cell_type": "code",
   "execution_count": 22,
   "id": "2360db7d-c5d9-4c40-9a47-f560de87414b",
   "metadata": {},
   "outputs": [],
   "source": [
    "# Exclude low activity customers\n",
    "ords_prods_customers_high_activity =  ords_prods_customers1[ords_prods_customers1['activity_flag']== 'High activity']"
   ]
  },
  {
   "cell_type": "code",
   "execution_count": 23,
   "id": "ca677bf0-81ff-43ba-b814-a056cf512898",
   "metadata": {},
   "outputs": [
    {
     "data": {
      "text/plain": [
       "activity_flag\n",
       "High activity    30964564\n",
       "Name: count, dtype: int64"
      ]
     },
     "execution_count": 23,
     "metadata": {},
     "output_type": "execute_result"
    }
   ],
   "source": [
    "#Check output\n",
    "ords_prods_customers_high_activity['activity_flag'].value_counts()"
   ]
  },
  {
   "cell_type": "code",
   "execution_count": 24,
   "id": "a840b231-fd87-4297-aac9-bd9a6d215fa5",
   "metadata": {},
   "outputs": [
    {
     "data": {
      "text/html": [
       "<div>\n",
       "<style scoped>\n",
       "    .dataframe tbody tr th:only-of-type {\n",
       "        vertical-align: middle;\n",
       "    }\n",
       "\n",
       "    .dataframe tbody tr th {\n",
       "        vertical-align: top;\n",
       "    }\n",
       "\n",
       "    .dataframe thead th {\n",
       "        text-align: right;\n",
       "    }\n",
       "</style>\n",
       "<table border=\"1\" class=\"dataframe\">\n",
       "  <thead>\n",
       "    <tr style=\"text-align: right;\">\n",
       "      <th></th>\n",
       "      <th>Unnamed: 0.1</th>\n",
       "      <th>order_id</th>\n",
       "      <th>user_id</th>\n",
       "      <th>eval_set</th>\n",
       "      <th>order_number</th>\n",
       "      <th>orders_days_of_week</th>\n",
       "      <th>order_hour_of_day</th>\n",
       "      <th>days_since_prior_order</th>\n",
       "      <th>first_time_customers</th>\n",
       "      <th>product_id</th>\n",
       "      <th>...</th>\n",
       "      <th>gender</th>\n",
       "      <th>state</th>\n",
       "      <th>age</th>\n",
       "      <th>date_joined</th>\n",
       "      <th>n_dependants</th>\n",
       "      <th>marital_status</th>\n",
       "      <th>income</th>\n",
       "      <th>_merge</th>\n",
       "      <th>region</th>\n",
       "      <th>activity_flag</th>\n",
       "    </tr>\n",
       "  </thead>\n",
       "  <tbody>\n",
       "    <tr>\n",
       "      <th>0</th>\n",
       "      <td>0</td>\n",
       "      <td>2539329</td>\n",
       "      <td>1</td>\n",
       "      <td>prior</td>\n",
       "      <td>1</td>\n",
       "      <td>2</td>\n",
       "      <td>8</td>\n",
       "      <td>NaN</td>\n",
       "      <td>True</td>\n",
       "      <td>196</td>\n",
       "      <td>...</td>\n",
       "      <td>Female</td>\n",
       "      <td>Alabama</td>\n",
       "      <td>31</td>\n",
       "      <td>2/17/2019</td>\n",
       "      <td>3</td>\n",
       "      <td>married</td>\n",
       "      <td>40423</td>\n",
       "      <td>both</td>\n",
       "      <td>South</td>\n",
       "      <td>High activity</td>\n",
       "    </tr>\n",
       "    <tr>\n",
       "      <th>1</th>\n",
       "      <td>0</td>\n",
       "      <td>2539329</td>\n",
       "      <td>1</td>\n",
       "      <td>prior</td>\n",
       "      <td>1</td>\n",
       "      <td>2</td>\n",
       "      <td>8</td>\n",
       "      <td>NaN</td>\n",
       "      <td>True</td>\n",
       "      <td>14084</td>\n",
       "      <td>...</td>\n",
       "      <td>Female</td>\n",
       "      <td>Alabama</td>\n",
       "      <td>31</td>\n",
       "      <td>2/17/2019</td>\n",
       "      <td>3</td>\n",
       "      <td>married</td>\n",
       "      <td>40423</td>\n",
       "      <td>both</td>\n",
       "      <td>South</td>\n",
       "      <td>High activity</td>\n",
       "    </tr>\n",
       "    <tr>\n",
       "      <th>2</th>\n",
       "      <td>0</td>\n",
       "      <td>2539329</td>\n",
       "      <td>1</td>\n",
       "      <td>prior</td>\n",
       "      <td>1</td>\n",
       "      <td>2</td>\n",
       "      <td>8</td>\n",
       "      <td>NaN</td>\n",
       "      <td>True</td>\n",
       "      <td>12427</td>\n",
       "      <td>...</td>\n",
       "      <td>Female</td>\n",
       "      <td>Alabama</td>\n",
       "      <td>31</td>\n",
       "      <td>2/17/2019</td>\n",
       "      <td>3</td>\n",
       "      <td>married</td>\n",
       "      <td>40423</td>\n",
       "      <td>both</td>\n",
       "      <td>South</td>\n",
       "      <td>High activity</td>\n",
       "    </tr>\n",
       "    <tr>\n",
       "      <th>3</th>\n",
       "      <td>0</td>\n",
       "      <td>2539329</td>\n",
       "      <td>1</td>\n",
       "      <td>prior</td>\n",
       "      <td>1</td>\n",
       "      <td>2</td>\n",
       "      <td>8</td>\n",
       "      <td>NaN</td>\n",
       "      <td>True</td>\n",
       "      <td>26088</td>\n",
       "      <td>...</td>\n",
       "      <td>Female</td>\n",
       "      <td>Alabama</td>\n",
       "      <td>31</td>\n",
       "      <td>2/17/2019</td>\n",
       "      <td>3</td>\n",
       "      <td>married</td>\n",
       "      <td>40423</td>\n",
       "      <td>both</td>\n",
       "      <td>South</td>\n",
       "      <td>High activity</td>\n",
       "    </tr>\n",
       "    <tr>\n",
       "      <th>4</th>\n",
       "      <td>0</td>\n",
       "      <td>2539329</td>\n",
       "      <td>1</td>\n",
       "      <td>prior</td>\n",
       "      <td>1</td>\n",
       "      <td>2</td>\n",
       "      <td>8</td>\n",
       "      <td>NaN</td>\n",
       "      <td>True</td>\n",
       "      <td>26405</td>\n",
       "      <td>...</td>\n",
       "      <td>Female</td>\n",
       "      <td>Alabama</td>\n",
       "      <td>31</td>\n",
       "      <td>2/17/2019</td>\n",
       "      <td>3</td>\n",
       "      <td>married</td>\n",
       "      <td>40423</td>\n",
       "      <td>both</td>\n",
       "      <td>South</td>\n",
       "      <td>High activity</td>\n",
       "    </tr>\n",
       "  </tbody>\n",
       "</table>\n",
       "<p>5 rows × 37 columns</p>\n",
       "</div>"
      ],
      "text/plain": [
       "   Unnamed: 0.1 order_id user_id eval_set  order_number  orders_days_of_week  \\\n",
       "0             0  2539329       1    prior             1                    2   \n",
       "1             0  2539329       1    prior             1                    2   \n",
       "2             0  2539329       1    prior             1                    2   \n",
       "3             0  2539329       1    prior             1                    2   \n",
       "4             0  2539329       1    prior             1                    2   \n",
       "\n",
       "   order_hour_of_day  days_since_prior_order  first_time_customers  \\\n",
       "0                  8                     NaN                  True   \n",
       "1                  8                     NaN                  True   \n",
       "2                  8                     NaN                  True   \n",
       "3                  8                     NaN                  True   \n",
       "4                  8                     NaN                  True   \n",
       "\n",
       "   product_id  ...  gender    state age  date_joined  n_dependants  \\\n",
       "0         196  ...  Female  Alabama  31    2/17/2019             3   \n",
       "1       14084  ...  Female  Alabama  31    2/17/2019             3   \n",
       "2       12427  ...  Female  Alabama  31    2/17/2019             3   \n",
       "3       26088  ...  Female  Alabama  31    2/17/2019             3   \n",
       "4       26405  ...  Female  Alabama  31    2/17/2019             3   \n",
       "\n",
       "   marital_status income _merge region  activity_flag  \n",
       "0         married  40423   both  South  High activity  \n",
       "1         married  40423   both  South  High activity  \n",
       "2         married  40423   both  South  High activity  \n",
       "3         married  40423   both  South  High activity  \n",
       "4         married  40423   both  South  High activity  \n",
       "\n",
       "[5 rows x 37 columns]"
      ]
     },
     "execution_count": 24,
     "metadata": {},
     "output_type": "execute_result"
    }
   ],
   "source": [
    "#Check output\n",
    "ords_prods_customers_high_activity.head()"
   ]
  },
  {
   "cell_type": "markdown",
   "id": "88fc3412-662d-4a27-a65e-7c4f2ecdfc34",
   "metadata": {},
   "source": [
    "### Exporting dataframe"
   ]
  },
  {
   "cell_type": "code",
   "execution_count": 25,
   "id": "b900ad1b-66d0-4413-8425-9cf7e462ac26",
   "metadata": {},
   "outputs": [],
   "source": [
    "#Exporting dataframe\n",
    "ords_prods_customers_high_activity.to_pickle(os.path.join(path, '02 Data','Prepared Data', 'ords_prods_customers_high_activity.pkl'))"
   ]
  },
  {
   "cell_type": "markdown",
   "id": "3bc377a6-85d2-4c4f-8987-bfd6af8fba55",
   "metadata": {},
   "source": [
    "# Step 6 Create a profiling variable based on age, income, certain goods in the department_id column, and number of dependents."
   ]
  },
  {
   "cell_type": "code",
   "execution_count": 26,
   "id": "6af02bb7-962e-4f66-9a73-e97b1a976713",
   "metadata": {},
   "outputs": [],
   "source": [
    "#IMporting the dataframe\n",
    "df_ords_prods_custs_new = pd.read_pickle(os.path.join(path, '02 Data', 'Prepared Data', 'ords_prods_customers_high_activity.pkl'))"
   ]
  },
  {
   "cell_type": "markdown",
   "id": "e18cee73-d9b0-4b75-9796-4b9d3a745803",
   "metadata": {},
   "source": [
    "#### Age profiles"
   ]
  },
  {
   "cell_type": "code",
   "execution_count": 27,
   "id": "40fa91cf-8b01-47c8-ba1e-f97e680e8cd0",
   "metadata": {},
   "outputs": [],
   "source": [
    "#Creating age profile\n",
    "#Young Adults (>25)\n",
    "#Adult (25-40)\n",
    "#Middle aged (40-65)\n",
    "#Senior Citizens (65+)"
   ]
  },
  {
   "cell_type": "code",
   "execution_count": 28,
   "id": "ebe54d8c-455a-4e7f-b669-7f8e46191067",
   "metadata": {},
   "outputs": [],
   "source": [
    "df_ords_prods_custs_new.loc[df_ords_prods_custs_new['age'] <25, 'age_group'] = 'Young adult'"
   ]
  },
  {
   "cell_type": "code",
   "execution_count": 29,
   "id": "e8d217be-dc0d-4003-880a-f265f925a98f",
   "metadata": {},
   "outputs": [],
   "source": [
    "df_ords_prods_custs_new.loc[(df_ords_prods_custs_new['age'] >= 25) & (df_ords_prods_custs_new['age'] < 40), 'age_group'] = 'Adult'"
   ]
  },
  {
   "cell_type": "code",
   "execution_count": 30,
   "id": "26441e15-613a-4faf-9b57-f5afba55c86b",
   "metadata": {},
   "outputs": [],
   "source": [
    "df_ords_prods_custs_new.loc[(df_ords_prods_custs_new['age'] >= 40) & (df_ords_prods_custs_new['age'] < 65), 'age_group'] = 'Middle aged'"
   ]
  },
  {
   "cell_type": "code",
   "execution_count": 31,
   "id": "0cb53290-9754-4a22-a8d6-dd3a5d51b80f",
   "metadata": {},
   "outputs": [],
   "source": [
    "df_ords_prods_custs_new.loc[df_ords_prods_custs_new['age'] >= 65, 'age_group'] = 'Senior Citizen'"
   ]
  },
  {
   "cell_type": "code",
   "execution_count": 32,
   "id": "03ca2001-9370-4d65-ab6e-c26d2ea16e29",
   "metadata": {},
   "outputs": [
    {
     "data": {
      "text/plain": [
       "age_group\n",
       "Middle aged       12103910\n",
       "Senior Citizen     8195544\n",
       "Adult              7249916\n",
       "Young adult        3415194\n",
       "Name: count, dtype: int64"
      ]
     },
     "execution_count": 32,
     "metadata": {},
     "output_type": "execute_result"
    }
   ],
   "source": [
    "# Checking the frequency of age categories\n",
    "df_ords_prods_custs_new['age_group'].value_counts(dropna=False)"
   ]
  },
  {
   "cell_type": "code",
   "execution_count": 33,
   "id": "23adb231-7e16-4e43-8cc8-3cc5d3df2d9b",
   "metadata": {},
   "outputs": [
    {
     "data": {
      "text/html": [
       "<div>\n",
       "<style scoped>\n",
       "    .dataframe tbody tr th:only-of-type {\n",
       "        vertical-align: middle;\n",
       "    }\n",
       "\n",
       "    .dataframe tbody tr th {\n",
       "        vertical-align: top;\n",
       "    }\n",
       "\n",
       "    .dataframe thead th {\n",
       "        text-align: right;\n",
       "    }\n",
       "</style>\n",
       "<table border=\"1\" class=\"dataframe\">\n",
       "  <thead>\n",
       "    <tr style=\"text-align: right;\">\n",
       "      <th></th>\n",
       "      <th>Unnamed: 0.1</th>\n",
       "      <th>order_id</th>\n",
       "      <th>user_id</th>\n",
       "      <th>eval_set</th>\n",
       "      <th>order_number</th>\n",
       "      <th>orders_days_of_week</th>\n",
       "      <th>order_hour_of_day</th>\n",
       "      <th>days_since_prior_order</th>\n",
       "      <th>first_time_customers</th>\n",
       "      <th>product_id</th>\n",
       "      <th>...</th>\n",
       "      <th>state</th>\n",
       "      <th>age</th>\n",
       "      <th>date_joined</th>\n",
       "      <th>n_dependants</th>\n",
       "      <th>marital_status</th>\n",
       "      <th>income</th>\n",
       "      <th>_merge</th>\n",
       "      <th>region</th>\n",
       "      <th>activity_flag</th>\n",
       "      <th>age_group</th>\n",
       "    </tr>\n",
       "  </thead>\n",
       "  <tbody>\n",
       "    <tr>\n",
       "      <th>0</th>\n",
       "      <td>0</td>\n",
       "      <td>2539329</td>\n",
       "      <td>1</td>\n",
       "      <td>prior</td>\n",
       "      <td>1</td>\n",
       "      <td>2</td>\n",
       "      <td>8</td>\n",
       "      <td>NaN</td>\n",
       "      <td>True</td>\n",
       "      <td>196</td>\n",
       "      <td>...</td>\n",
       "      <td>Alabama</td>\n",
       "      <td>31</td>\n",
       "      <td>2/17/2019</td>\n",
       "      <td>3</td>\n",
       "      <td>married</td>\n",
       "      <td>40423</td>\n",
       "      <td>both</td>\n",
       "      <td>South</td>\n",
       "      <td>High activity</td>\n",
       "      <td>Adult</td>\n",
       "    </tr>\n",
       "    <tr>\n",
       "      <th>1</th>\n",
       "      <td>0</td>\n",
       "      <td>2539329</td>\n",
       "      <td>1</td>\n",
       "      <td>prior</td>\n",
       "      <td>1</td>\n",
       "      <td>2</td>\n",
       "      <td>8</td>\n",
       "      <td>NaN</td>\n",
       "      <td>True</td>\n",
       "      <td>14084</td>\n",
       "      <td>...</td>\n",
       "      <td>Alabama</td>\n",
       "      <td>31</td>\n",
       "      <td>2/17/2019</td>\n",
       "      <td>3</td>\n",
       "      <td>married</td>\n",
       "      <td>40423</td>\n",
       "      <td>both</td>\n",
       "      <td>South</td>\n",
       "      <td>High activity</td>\n",
       "      <td>Adult</td>\n",
       "    </tr>\n",
       "    <tr>\n",
       "      <th>2</th>\n",
       "      <td>0</td>\n",
       "      <td>2539329</td>\n",
       "      <td>1</td>\n",
       "      <td>prior</td>\n",
       "      <td>1</td>\n",
       "      <td>2</td>\n",
       "      <td>8</td>\n",
       "      <td>NaN</td>\n",
       "      <td>True</td>\n",
       "      <td>12427</td>\n",
       "      <td>...</td>\n",
       "      <td>Alabama</td>\n",
       "      <td>31</td>\n",
       "      <td>2/17/2019</td>\n",
       "      <td>3</td>\n",
       "      <td>married</td>\n",
       "      <td>40423</td>\n",
       "      <td>both</td>\n",
       "      <td>South</td>\n",
       "      <td>High activity</td>\n",
       "      <td>Adult</td>\n",
       "    </tr>\n",
       "    <tr>\n",
       "      <th>3</th>\n",
       "      <td>0</td>\n",
       "      <td>2539329</td>\n",
       "      <td>1</td>\n",
       "      <td>prior</td>\n",
       "      <td>1</td>\n",
       "      <td>2</td>\n",
       "      <td>8</td>\n",
       "      <td>NaN</td>\n",
       "      <td>True</td>\n",
       "      <td>26088</td>\n",
       "      <td>...</td>\n",
       "      <td>Alabama</td>\n",
       "      <td>31</td>\n",
       "      <td>2/17/2019</td>\n",
       "      <td>3</td>\n",
       "      <td>married</td>\n",
       "      <td>40423</td>\n",
       "      <td>both</td>\n",
       "      <td>South</td>\n",
       "      <td>High activity</td>\n",
       "      <td>Adult</td>\n",
       "    </tr>\n",
       "    <tr>\n",
       "      <th>4</th>\n",
       "      <td>0</td>\n",
       "      <td>2539329</td>\n",
       "      <td>1</td>\n",
       "      <td>prior</td>\n",
       "      <td>1</td>\n",
       "      <td>2</td>\n",
       "      <td>8</td>\n",
       "      <td>NaN</td>\n",
       "      <td>True</td>\n",
       "      <td>26405</td>\n",
       "      <td>...</td>\n",
       "      <td>Alabama</td>\n",
       "      <td>31</td>\n",
       "      <td>2/17/2019</td>\n",
       "      <td>3</td>\n",
       "      <td>married</td>\n",
       "      <td>40423</td>\n",
       "      <td>both</td>\n",
       "      <td>South</td>\n",
       "      <td>High activity</td>\n",
       "      <td>Adult</td>\n",
       "    </tr>\n",
       "  </tbody>\n",
       "</table>\n",
       "<p>5 rows × 38 columns</p>\n",
       "</div>"
      ],
      "text/plain": [
       "   Unnamed: 0.1 order_id user_id eval_set  order_number  orders_days_of_week  \\\n",
       "0             0  2539329       1    prior             1                    2   \n",
       "1             0  2539329       1    prior             1                    2   \n",
       "2             0  2539329       1    prior             1                    2   \n",
       "3             0  2539329       1    prior             1                    2   \n",
       "4             0  2539329       1    prior             1                    2   \n",
       "\n",
       "   order_hour_of_day  days_since_prior_order  first_time_customers  \\\n",
       "0                  8                     NaN                  True   \n",
       "1                  8                     NaN                  True   \n",
       "2                  8                     NaN                  True   \n",
       "3                  8                     NaN                  True   \n",
       "4                  8                     NaN                  True   \n",
       "\n",
       "   product_id  ...    state  age date_joined  n_dependants  marital_status  \\\n",
       "0         196  ...  Alabama   31   2/17/2019             3         married   \n",
       "1       14084  ...  Alabama   31   2/17/2019             3         married   \n",
       "2       12427  ...  Alabama   31   2/17/2019             3         married   \n",
       "3       26088  ...  Alabama   31   2/17/2019             3         married   \n",
       "4       26405  ...  Alabama   31   2/17/2019             3         married   \n",
       "\n",
       "   income _merge region  activity_flag age_group  \n",
       "0   40423   both  South  High activity     Adult  \n",
       "1   40423   both  South  High activity     Adult  \n",
       "2   40423   both  South  High activity     Adult  \n",
       "3   40423   both  South  High activity     Adult  \n",
       "4   40423   both  South  High activity     Adult  \n",
       "\n",
       "[5 rows x 38 columns]"
      ]
     },
     "execution_count": 33,
     "metadata": {},
     "output_type": "execute_result"
    }
   ],
   "source": [
    "#Check output\n",
    "df_ords_prods_custs_new.head()"
   ]
  },
  {
   "cell_type": "code",
   "execution_count": 75,
   "id": "f921e133-6402-424d-a721-3ee8867b79b0",
   "metadata": {},
   "outputs": [
    {
     "data": {
      "image/png": "[encoded data removed]",
      "text/plain": [
       "<Figure size 640x480 with 1 Axes>"
      ]
     },
     "metadata": {},
     "output_type": "display_data"
    }
   ],
   "source": [
    "# Create bar chart for age profile of customers\n",
    "bar_chart_age = df_ords_prods_custs_new['age_group'].value_counts().plot.bar()"
   ]
  },
  {
   "cell_type": "code",
   "execution_count": 76,
   "id": "078fd125-1113-4725-a79c-58e86b965bc3",
   "metadata": {},
   "outputs": [],
   "source": [
    "# Export bar chart for age profile of customers\n",
    "bar_chart_age.figure.savefig(os.path.join(path, '04 Analysis','Visualizations', 'age_group_bar_chart.png'))"
   ]
  },
  {
   "cell_type": "markdown",
   "id": "5996b1cd-9171-4f64-8e22-1f532a30685d",
   "metadata": {},
   "source": [
    "#### Income profile"
   ]
  },
  {
   "cell_type": "code",
   "execution_count": 34,
   "id": "d2bda8b3-643e-49c4-8114-3e17142662ac",
   "metadata": {},
   "outputs": [
    {
     "data": {
      "text/plain": [
       "count    3.096456e+07\n",
       "mean     9.967587e+04\n",
       "std      4.314187e+04\n",
       "min      2.590300e+04\n",
       "25%      6.729200e+04\n",
       "50%      9.676500e+04\n",
       "75%      1.281020e+05\n",
       "max      5.939010e+05\n",
       "Name: income, dtype: float64"
      ]
     },
     "execution_count": 34,
     "metadata": {},
     "output_type": "execute_result"
    }
   ],
   "source": [
    "#Customer profiling based on income and the quartiles of income brackets\n",
    "df_ords_prods_custs_new['income'].describe()\n"
   ]
  },
  {
   "cell_type": "code",
   "execution_count": 35,
   "id": "afb14cec-f3d3-4e95-a2ce-db83851bec61",
   "metadata": {},
   "outputs": [],
   "source": [
    "#Categories\n",
    "#Low Income Customer: < 67292\n",
    "#Middle Income Customer >=96760& < 128102\n",
    "#High Income Customer >=128102"
   ]
  },
  {
   "cell_type": "code",
   "execution_count": 36,
   "id": "19e2a2f2-c2c7-4eed-92ef-081bfb058f97",
   "metadata": {},
   "outputs": [],
   "source": [
    "# Create an income flag for three income levels \n",
    "df_ords_prods_custs_new.loc[df_ords_prods_custs_new['income'] < 96765, 'income_group'] = 'Low Income'"
   ]
  },
  {
   "cell_type": "code",
   "execution_count": 37,
   "id": "5920aca3-049e-4fab-ab07-d567047eaed2",
   "metadata": {},
   "outputs": [],
   "source": [
    "df_ords_prods_custs_new.loc[(df_ords_prods_custs_new['income'] > 96765) & (df_ords_prods_custs_new['income'] < 128102), 'income_group'] = 'Middle Income'"
   ]
  },
  {
   "cell_type": "code",
   "execution_count": 38,
   "id": "0d989b81-e275-4109-abec-13619333e5cf",
   "metadata": {},
   "outputs": [],
   "source": [
    "df_ords_prods_custs_new.loc[(df_ords_prods_custs_new['income'] > 128102), 'income_group'] = 'High Income'"
   ]
  },
  {
   "cell_type": "code",
   "execution_count": 39,
   "id": "d7053d8b-4665-481f-8a15-8447152a02d1",
   "metadata": {},
   "outputs": [
    {
     "data": {
      "text/plain": [
       "income_group\n",
       "Low Income       15481137\n",
       "High Income       7741091\n",
       "Middle Income     7740712\n",
       "NaN                  1624\n",
       "Name: count, dtype: int64"
      ]
     },
     "execution_count": 39,
     "metadata": {},
     "output_type": "execute_result"
    }
   ],
   "source": [
    "# Check df now \n",
    "df_ords_prods_custs_new['income_group'].value_counts(dropna=False)"
   ]
  },
  {
   "cell_type": "code",
   "execution_count": 72,
   "id": "d39b5199-eb9a-488d-a890-2bfc5d18d5df",
   "metadata": {},
   "outputs": [
    {
     "data": {
      "image/png": "[encoded data removed]",
      "text/plain": [
       "<Figure size 640x480 with 1 Axes>"
      ]
     },
     "metadata": {},
     "output_type": "display_data"
    }
   ],
   "source": [
    "# Bar chart for income groups \n",
    "income_groups_bar = df_ords_prods_custs_new['income_group'].value_counts().plot.bar(color = ['lightblue'])"
   ]
  },
  {
   "cell_type": "code",
   "execution_count": 73,
   "id": "0bba2215-fe7c-4dc9-94ea-30771c2ef5c6",
   "metadata": {},
   "outputs": [],
   "source": [
    "# Export bar chart for income groups \n",
    "income_groups_bar.figure.savefig(os.path.join(path, '04 Analysis','Visualizations', 'income_groups_bar_chart.png'))"
   ]
  },
  {
   "cell_type": "markdown",
   "id": "ff65732c-f1cb-49ce-bead-e7c23c39d03a",
   "metadata": {},
   "source": [
    "#### Number of dependents"
   ]
  },
  {
   "cell_type": "code",
   "execution_count": 40,
   "id": "218fcdc7-fc3f-4a94-84a9-0d28786d5396",
   "metadata": {},
   "outputs": [],
   "source": [
    "#Number of dependents profile\n",
    "#Single <1\n",
    "#Parent >=1\n"
   ]
  },
  {
   "cell_type": "code",
   "execution_count": 41,
   "id": "63a3d6bf-1518-48ee-9b8a-b18b415c9120",
   "metadata": {},
   "outputs": [
    {
     "data": {
      "text/plain": [
       "count    3.096456e+07\n",
       "mean     1.501819e+00\n",
       "std      1.118896e+00\n",
       "min      0.000000e+00\n",
       "25%      1.000000e+00\n",
       "50%      2.000000e+00\n",
       "75%      3.000000e+00\n",
       "max      3.000000e+00\n",
       "Name: n_dependants, dtype: float64"
      ]
     },
     "execution_count": 41,
     "metadata": {},
     "output_type": "execute_result"
    }
   ],
   "source": [
    "#Customer profiling based on number of dependents\n",
    "df_ords_prods_custs_new['n_dependants'].describe()"
   ]
  },
  {
   "cell_type": "code",
   "execution_count": 42,
   "id": "58398c01-fd7d-4cdd-b861-54082a1a56ba",
   "metadata": {},
   "outputs": [],
   "source": [
    "# Create dependants flag \n",
    "df_ords_prods_custs_new.loc[df_ords_prods_custs_new['n_dependants'] > 0, 'dependents_flag'] = 'Has dependants'"
   ]
  },
  {
   "cell_type": "code",
   "execution_count": 43,
   "id": "2ad82e26-7388-4f47-8878-2b00d9af1710",
   "metadata": {},
   "outputs": [],
   "source": [
    "df_ords_prods_custs_new.loc[df_ords_prods_custs_new['n_dependants'] ==0 , 'dependents_flag'] = 'No dependants'"
   ]
  },
  {
   "cell_type": "code",
   "execution_count": 44,
   "id": "494059c4-37b8-49b5-8935-0f07ef6b84e4",
   "metadata": {},
   "outputs": [
    {
     "data": {
      "text/plain": [
       "dependents_flag\n",
       "Has dependants    23224883\n",
       "No dependants      7739681\n",
       "Name: count, dtype: int64"
      ]
     },
     "execution_count": 44,
     "metadata": {},
     "output_type": "execute_result"
    }
   ],
   "source": [
    "#Check output\n",
    "df_ords_prods_custs_new['dependents_flag'].value_counts(dropna=False)"
   ]
  },
  {
   "cell_type": "markdown",
   "id": "301ddf53-ae41-4aeb-9ff8-6a0fa2e81562",
   "metadata": {},
   "source": [
    "###  The relationship between dependants and age group"
   ]
  },
  {
   "cell_type": "code",
   "execution_count": 46,
   "id": "9081e0dd-5f30-47e1-8b73-8af299b179d0",
   "metadata": {},
   "outputs": [
    {
     "data": {
      "image/png": "[encoded data removed]",
      "text/plain": [
       "<Figure size 640x480 with 1 Axes>"
      ]
     },
     "metadata": {},
     "output_type": "display_data"
    }
   ],
   "source": [
    "clusterbar1 = sns.countplot(data=df_ords_prods_custs_new, x='age_group', hue='dependents_flag')"
   ]
  },
  {
   "cell_type": "markdown",
   "id": "a4509183-6dfd-4629-b7c8-0829d2e65f29",
   "metadata": {},
   "source": [
    "#### People of all ages have dependants.Thos with dependants are likely to buy from certain departments?"
   ]
  },
  {
   "cell_type": "code",
   "execution_count": 47,
   "id": "27854049-d313-41fb-b3a8-e89d5342d386",
   "metadata": {},
   "outputs": [],
   "source": [
    "#Export and save \n",
    "clusterbar1.figure.savefig(os.path.join(path, '04 Analysis','Visualizations', 'age_dependants.png'), bbox_inches='tight')"
   ]
  },
  {
   "cell_type": "code",
   "execution_count": 70,
   "id": "1b547291-e2cd-446d-aed3-3392720b6a6e",
   "metadata": {},
   "outputs": [
    {
     "data": {
      "image/png": "[encoded data removed]",
      "text/plain": [
       "<Figure size 640x480 with 1 Axes>"
      ]
     },
     "metadata": {},
     "output_type": "display_data"
    }
   ],
   "source": [
    "# Pie chart for dependents_profile\n",
    "\n",
    "dependents_pie_chart = df_ords_prods_custs_new['dependents_flag'].value_counts().plot.pie(label='', labels=['Has dependents', 'No dependents'], autopct=('%1.f%%'), colors=['forestgreen','mediumpurple'], textprops={'fontsize': 14})"
   ]
  },
  {
   "cell_type": "code",
   "execution_count": 71,
   "id": "7751d1d5-9cae-48c6-9875-7bf6261e2f09",
   "metadata": {},
   "outputs": [],
   "source": [
    "# Export pie chart for dependents_profile\n",
    "\n",
    "dependents_pie_chart.figure.savefig(os.path.join(path, '04 Analysis','Visualizations', 'dependents_pie_chart.png'))"
   ]
  },
  {
   "cell_type": "markdown",
   "id": "d3c065da-b2df-4584-9a56-80aff3e896bb",
   "metadata": {},
   "source": [
    "## Customers with dependants and no dependants shopping in different departments\n",
    "Baby items\n",
    "\n",
    "Personal care"
   ]
  },
  {
   "cell_type": "code",
   "execution_count": 48,
   "id": "b18ed78b-902f-4465-b962-d2be60565876",
   "metadata": {},
   "outputs": [],
   "source": [
    "# To make the results easier to interpret, add department labels to the dataframe.Merge with the 'departments_wrangled' file\n",
    "# Import departmemts datafile\n",
    "df_dept = pd.read_csv(os.path.join(path, '02 Data', 'Prepared Data', 'departments_wrangled.csv'), index_col = False)"
   ]
  },
  {
   "cell_type": "code",
   "execution_count": 49,
   "id": "83e2cf71-8db4-4a5b-af42-83dd5024c151",
   "metadata": {},
   "outputs": [
    {
     "data": {
      "text/html": [
       "<div>\n",
       "<style scoped>\n",
       "    .dataframe tbody tr th:only-of-type {\n",
       "        vertical-align: middle;\n",
       "    }\n",
       "\n",
       "    .dataframe tbody tr th {\n",
       "        vertical-align: top;\n",
       "    }\n",
       "\n",
       "    .dataframe thead th {\n",
       "        text-align: right;\n",
       "    }\n",
       "</style>\n",
       "<table border=\"1\" class=\"dataframe\">\n",
       "  <thead>\n",
       "    <tr style=\"text-align: right;\">\n",
       "      <th></th>\n",
       "      <th>Unnamed: 0</th>\n",
       "      <th>department</th>\n",
       "    </tr>\n",
       "  </thead>\n",
       "  <tbody>\n",
       "    <tr>\n",
       "      <th>0</th>\n",
       "      <td>1</td>\n",
       "      <td>frozen</td>\n",
       "    </tr>\n",
       "    <tr>\n",
       "      <th>1</th>\n",
       "      <td>2</td>\n",
       "      <td>other</td>\n",
       "    </tr>\n",
       "    <tr>\n",
       "      <th>2</th>\n",
       "      <td>3</td>\n",
       "      <td>bakery</td>\n",
       "    </tr>\n",
       "    <tr>\n",
       "      <th>3</th>\n",
       "      <td>4</td>\n",
       "      <td>produce</td>\n",
       "    </tr>\n",
       "    <tr>\n",
       "      <th>4</th>\n",
       "      <td>5</td>\n",
       "      <td>alcohol</td>\n",
       "    </tr>\n",
       "  </tbody>\n",
       "</table>\n",
       "</div>"
      ],
      "text/plain": [
       "   Unnamed: 0 department\n",
       "0           1     frozen\n",
       "1           2      other\n",
       "2           3     bakery\n",
       "3           4    produce\n",
       "4           5    alcohol"
      ]
     },
     "execution_count": 49,
     "metadata": {},
     "output_type": "execute_result"
    }
   ],
   "source": [
    "#Check output\n",
    "df_dept.head()"
   ]
  },
  {
   "cell_type": "code",
   "execution_count": 50,
   "id": "08b80f21-401d-4356-a2de-191174c3d652",
   "metadata": {},
   "outputs": [],
   "source": [
    "# Renaming 'Unnamed' column\n",
    "df_dept.rename(columns = {'Unnamed: 0' : 'department_id'}, inplace = True)"
   ]
  },
  {
   "cell_type": "code",
   "execution_count": 51,
   "id": "c9fe7954-d86f-40e4-81dd-ee5dfe9b3caa",
   "metadata": {},
   "outputs": [
    {
     "data": {
      "text/html": [
       "<div>\n",
       "<style scoped>\n",
       "    .dataframe tbody tr th:only-of-type {\n",
       "        vertical-align: middle;\n",
       "    }\n",
       "\n",
       "    .dataframe tbody tr th {\n",
       "        vertical-align: top;\n",
       "    }\n",
       "\n",
       "    .dataframe thead th {\n",
       "        text-align: right;\n",
       "    }\n",
       "</style>\n",
       "<table border=\"1\" class=\"dataframe\">\n",
       "  <thead>\n",
       "    <tr style=\"text-align: right;\">\n",
       "      <th></th>\n",
       "      <th>department_id</th>\n",
       "      <th>department</th>\n",
       "    </tr>\n",
       "  </thead>\n",
       "  <tbody>\n",
       "    <tr>\n",
       "      <th>0</th>\n",
       "      <td>1</td>\n",
       "      <td>frozen</td>\n",
       "    </tr>\n",
       "    <tr>\n",
       "      <th>1</th>\n",
       "      <td>2</td>\n",
       "      <td>other</td>\n",
       "    </tr>\n",
       "    <tr>\n",
       "      <th>2</th>\n",
       "      <td>3</td>\n",
       "      <td>bakery</td>\n",
       "    </tr>\n",
       "    <tr>\n",
       "      <th>3</th>\n",
       "      <td>4</td>\n",
       "      <td>produce</td>\n",
       "    </tr>\n",
       "    <tr>\n",
       "      <th>4</th>\n",
       "      <td>5</td>\n",
       "      <td>alcohol</td>\n",
       "    </tr>\n",
       "  </tbody>\n",
       "</table>\n",
       "</div>"
      ],
      "text/plain": [
       "   department_id department\n",
       "0              1     frozen\n",
       "1              2      other\n",
       "2              3     bakery\n",
       "3              4    produce\n",
       "4              5    alcohol"
      ]
     },
     "execution_count": 51,
     "metadata": {},
     "output_type": "execute_result"
    }
   ],
   "source": [
    "#Check output\n",
    "df_dept.head()"
   ]
  },
  {
   "cell_type": "code",
   "execution_count": 52,
   "id": "049457c9-3630-48cc-bc76-87072c9132ca",
   "metadata": {},
   "outputs": [
    {
     "data": {
      "text/plain": [
       "department_id     int64\n",
       "department       object\n",
       "dtype: object"
      ]
     },
     "execution_count": 52,
     "metadata": {},
     "output_type": "execute_result"
    }
   ],
   "source": [
    "df_dept.dtypes"
   ]
  },
  {
   "cell_type": "code",
   "execution_count": 53,
   "id": "2ab620a0-676c-4e18-bb3c-a939e8a4d5c6",
   "metadata": {},
   "outputs": [
    {
     "data": {
      "text/plain": [
       "(21, 2)"
      ]
     },
     "execution_count": 53,
     "metadata": {},
     "output_type": "execute_result"
    }
   ],
   "source": [
    "# Check the shape \n",
    "df_dept.shape"
   ]
  },
  {
   "cell_type": "code",
   "execution_count": 54,
   "id": "3cb83dcc-f05e-4713-a257-eab337baf939",
   "metadata": {},
   "outputs": [
    {
     "data": {
      "text/plain": [
       "dtype('int64')"
      ]
     },
     "execution_count": 54,
     "metadata": {},
     "output_type": "execute_result"
    }
   ],
   "source": [
    "#Check the datatype of department_id in df \n",
    "df_ords_prods_custs_new['department_id'].dtypes"
   ]
  },
  {
   "cell_type": "code",
   "execution_count": 55,
   "id": "de751066-b244-492a-830c-026f351a1652",
   "metadata": {},
   "outputs": [
    {
     "data": {
      "text/plain": [
       "(30964564, 40)"
      ]
     },
     "execution_count": 55,
     "metadata": {},
     "output_type": "execute_result"
    }
   ],
   "source": [
    "# Check the shape \n",
    "df_ords_prods_custs_new.shape"
   ]
  },
  {
   "cell_type": "code",
   "execution_count": 56,
   "id": "f2eb35f4-dcbf-45ff-8f6f-0edf9cc807ef",
   "metadata": {},
   "outputs": [],
   "source": [
    "# Drop the existing '_merge' column from the previous exercises\n",
    "df_ords_prods_custs_new1= df_ords_prods_custs_new.drop(['_merge'], axis =1)"
   ]
  },
  {
   "cell_type": "code",
   "execution_count": 57,
   "id": "a28bb21d-00df-42bb-8f9d-80eb8b3ad043",
   "metadata": {},
   "outputs": [],
   "source": [
    "# Merging the two dataframes \n",
    "ords_prods_custs_dept_merged = df_ords_prods_custs_new1.merge(df_dept, on = 'department_id', indicator = True)"
   ]
  },
  {
   "cell_type": "code",
   "execution_count": 58,
   "id": "a5d6ff1e-ff2e-4dec-b71d-6f3fc50e1a74",
   "metadata": {},
   "outputs": [
    {
     "data": {
      "text/plain": [
       "(30964564, 41)"
      ]
     },
     "execution_count": 58,
     "metadata": {},
     "output_type": "execute_result"
    }
   ],
   "source": [
    "#Check shape\n",
    "ords_prods_custs_dept_merged.shape"
   ]
  },
  {
   "cell_type": "code",
   "execution_count": 59,
   "id": "5eb93efb-6518-4b55-864f-d0562308e840",
   "metadata": {},
   "outputs": [
    {
     "data": {
      "text/html": [
       "<div>\n",
       "<style scoped>\n",
       "    .dataframe tbody tr th:only-of-type {\n",
       "        vertical-align: middle;\n",
       "    }\n",
       "\n",
       "    .dataframe tbody tr th {\n",
       "        vertical-align: top;\n",
       "    }\n",
       "\n",
       "    .dataframe thead th {\n",
       "        text-align: right;\n",
       "    }\n",
       "</style>\n",
       "<table border=\"1\" class=\"dataframe\">\n",
       "  <thead>\n",
       "    <tr style=\"text-align: right;\">\n",
       "      <th></th>\n",
       "      <th>Unnamed: 0.1</th>\n",
       "      <th>order_id</th>\n",
       "      <th>user_id</th>\n",
       "      <th>eval_set</th>\n",
       "      <th>order_number</th>\n",
       "      <th>orders_days_of_week</th>\n",
       "      <th>order_hour_of_day</th>\n",
       "      <th>days_since_prior_order</th>\n",
       "      <th>first_time_customers</th>\n",
       "      <th>product_id</th>\n",
       "      <th>...</th>\n",
       "      <th>n_dependants</th>\n",
       "      <th>marital_status</th>\n",
       "      <th>income</th>\n",
       "      <th>region</th>\n",
       "      <th>activity_flag</th>\n",
       "      <th>age_group</th>\n",
       "      <th>income_group</th>\n",
       "      <th>dependents_flag</th>\n",
       "      <th>department</th>\n",
       "      <th>_merge</th>\n",
       "    </tr>\n",
       "  </thead>\n",
       "  <tbody>\n",
       "    <tr>\n",
       "      <th>0</th>\n",
       "      <td>0</td>\n",
       "      <td>2539329</td>\n",
       "      <td>1</td>\n",
       "      <td>prior</td>\n",
       "      <td>1</td>\n",
       "      <td>2</td>\n",
       "      <td>8</td>\n",
       "      <td>NaN</td>\n",
       "      <td>True</td>\n",
       "      <td>196</td>\n",
       "      <td>...</td>\n",
       "      <td>3</td>\n",
       "      <td>married</td>\n",
       "      <td>40423</td>\n",
       "      <td>South</td>\n",
       "      <td>High activity</td>\n",
       "      <td>Adult</td>\n",
       "      <td>Low Income</td>\n",
       "      <td>Has dependants</td>\n",
       "      <td>beverages</td>\n",
       "      <td>both</td>\n",
       "    </tr>\n",
       "    <tr>\n",
       "      <th>1</th>\n",
       "      <td>0</td>\n",
       "      <td>2539329</td>\n",
       "      <td>1</td>\n",
       "      <td>prior</td>\n",
       "      <td>1</td>\n",
       "      <td>2</td>\n",
       "      <td>8</td>\n",
       "      <td>NaN</td>\n",
       "      <td>True</td>\n",
       "      <td>14084</td>\n",
       "      <td>...</td>\n",
       "      <td>3</td>\n",
       "      <td>married</td>\n",
       "      <td>40423</td>\n",
       "      <td>South</td>\n",
       "      <td>High activity</td>\n",
       "      <td>Adult</td>\n",
       "      <td>Low Income</td>\n",
       "      <td>Has dependants</td>\n",
       "      <td>dairy eggs</td>\n",
       "      <td>both</td>\n",
       "    </tr>\n",
       "    <tr>\n",
       "      <th>2</th>\n",
       "      <td>0</td>\n",
       "      <td>2539329</td>\n",
       "      <td>1</td>\n",
       "      <td>prior</td>\n",
       "      <td>1</td>\n",
       "      <td>2</td>\n",
       "      <td>8</td>\n",
       "      <td>NaN</td>\n",
       "      <td>True</td>\n",
       "      <td>12427</td>\n",
       "      <td>...</td>\n",
       "      <td>3</td>\n",
       "      <td>married</td>\n",
       "      <td>40423</td>\n",
       "      <td>South</td>\n",
       "      <td>High activity</td>\n",
       "      <td>Adult</td>\n",
       "      <td>Low Income</td>\n",
       "      <td>Has dependants</td>\n",
       "      <td>snacks</td>\n",
       "      <td>both</td>\n",
       "    </tr>\n",
       "    <tr>\n",
       "      <th>3</th>\n",
       "      <td>0</td>\n",
       "      <td>2539329</td>\n",
       "      <td>1</td>\n",
       "      <td>prior</td>\n",
       "      <td>1</td>\n",
       "      <td>2</td>\n",
       "      <td>8</td>\n",
       "      <td>NaN</td>\n",
       "      <td>True</td>\n",
       "      <td>26088</td>\n",
       "      <td>...</td>\n",
       "      <td>3</td>\n",
       "      <td>married</td>\n",
       "      <td>40423</td>\n",
       "      <td>South</td>\n",
       "      <td>High activity</td>\n",
       "      <td>Adult</td>\n",
       "      <td>Low Income</td>\n",
       "      <td>Has dependants</td>\n",
       "      <td>snacks</td>\n",
       "      <td>both</td>\n",
       "    </tr>\n",
       "    <tr>\n",
       "      <th>4</th>\n",
       "      <td>0</td>\n",
       "      <td>2539329</td>\n",
       "      <td>1</td>\n",
       "      <td>prior</td>\n",
       "      <td>1</td>\n",
       "      <td>2</td>\n",
       "      <td>8</td>\n",
       "      <td>NaN</td>\n",
       "      <td>True</td>\n",
       "      <td>26405</td>\n",
       "      <td>...</td>\n",
       "      <td>3</td>\n",
       "      <td>married</td>\n",
       "      <td>40423</td>\n",
       "      <td>South</td>\n",
       "      <td>High activity</td>\n",
       "      <td>Adult</td>\n",
       "      <td>Low Income</td>\n",
       "      <td>Has dependants</td>\n",
       "      <td>household</td>\n",
       "      <td>both</td>\n",
       "    </tr>\n",
       "  </tbody>\n",
       "</table>\n",
       "<p>5 rows × 41 columns</p>\n",
       "</div>"
      ],
      "text/plain": [
       "   Unnamed: 0.1 order_id user_id eval_set  order_number  orders_days_of_week  \\\n",
       "0             0  2539329       1    prior             1                    2   \n",
       "1             0  2539329       1    prior             1                    2   \n",
       "2             0  2539329       1    prior             1                    2   \n",
       "3             0  2539329       1    prior             1                    2   \n",
       "4             0  2539329       1    prior             1                    2   \n",
       "\n",
       "   order_hour_of_day  days_since_prior_order  first_time_customers  \\\n",
       "0                  8                     NaN                  True   \n",
       "1                  8                     NaN                  True   \n",
       "2                  8                     NaN                  True   \n",
       "3                  8                     NaN                  True   \n",
       "4                  8                     NaN                  True   \n",
       "\n",
       "   product_id  ...  n_dependants  marital_status income  region  \\\n",
       "0         196  ...             3         married  40423   South   \n",
       "1       14084  ...             3         married  40423   South   \n",
       "2       12427  ...             3         married  40423   South   \n",
       "3       26088  ...             3         married  40423   South   \n",
       "4       26405  ...             3         married  40423   South   \n",
       "\n",
       "   activity_flag  age_group income_group dependents_flag  department _merge  \n",
       "0  High activity      Adult   Low Income  Has dependants   beverages   both  \n",
       "1  High activity      Adult   Low Income  Has dependants  dairy eggs   both  \n",
       "2  High activity      Adult   Low Income  Has dependants      snacks   both  \n",
       "3  High activity      Adult   Low Income  Has dependants      snacks   both  \n",
       "4  High activity      Adult   Low Income  Has dependants   household   both  \n",
       "\n",
       "[5 rows x 41 columns]"
      ]
     },
     "execution_count": 59,
     "metadata": {},
     "output_type": "execute_result"
    }
   ],
   "source": [
    "#Check output\n",
    "ords_prods_custs_dept_merged.head()"
   ]
  },
  {
   "cell_type": "code",
   "execution_count": 60,
   "id": "39e91b80-63d4-4e38-9357-98e0b03ea65e",
   "metadata": {},
   "outputs": [
    {
     "data": {
      "image/png": "[encoded data removed]",
      "text/plain": [
       "<Figure size 800x600 with 1 Axes>"
      ]
     },
     "metadata": {},
     "output_type": "display_data"
    }
   ],
   "source": [
    "# Create a bar chart for departments\n",
    "\n",
    "department_bar = ords_prods_custs_dept_merged['department'].value_counts().plot.bar(color=['firebrick'], figsize=(8,6))"
   ]
  },
  {
   "cell_type": "code",
   "execution_count": 61,
   "id": "b2fd2772-5254-4477-9727-a6d554242225",
   "metadata": {},
   "outputs": [],
   "source": [
    "#Export bar chart \n",
    "department_bar.figure.savefig(os.path.join(path, '04 Analysis','Visualizations', 'department_bar_chart.png'))"
   ]
  },
  {
   "cell_type": "markdown",
   "id": "53f491a4-e8ac-48db-9d69-359e1742413f",
   "metadata": {},
   "source": [
    "## Baby items department"
   ]
  },
  {
   "cell_type": "code",
   "execution_count": 62,
   "id": "7a657f83-e150-4a95-83a5-99fd392f28f5",
   "metadata": {},
   "outputs": [],
   "source": [
    "# Do people with dependants buy the majority of baby items\n",
    "ords_prods_custs_dept_merged['baby_flag'] = (ords_prods_custs_dept_merged['department'] == 'babies').astype(int)"
   ]
  },
  {
   "cell_type": "code",
   "execution_count": 63,
   "id": "e667a41a-3aa6-4c71-a19a-05e3fde5d30b",
   "metadata": {},
   "outputs": [],
   "source": [
    "ords_prods_custs_dept_merged['baby_flag'] = ords_prods_custs_dept_merged.groupby('user_id')['baby_flag'].transform('max')"
   ]
  },
  {
   "cell_type": "code",
   "execution_count": 64,
   "id": "d3b720a1-4eaf-467c-b221-3991a3d07f17",
   "metadata": {},
   "outputs": [
    {
     "data": {
      "text/plain": [
       "baby_flag\n",
       "0    21154311\n",
       "1     9810253\n",
       "Name: count, dtype: int64"
      ]
     },
     "execution_count": 64,
     "metadata": {},
     "output_type": "execute_result"
    }
   ],
   "source": [
    "#Check frequency \n",
    "ords_prods_custs_dept_merged['baby_flag'].value_counts(dropna=False)"
   ]
  },
  {
   "cell_type": "code",
   "execution_count": 84,
   "id": "5db0f3c2-811b-4a41-a98d-631dc325e4d4",
   "metadata": {},
   "outputs": [
    {
     "data": {
      "text/html": [
       "<div>\n",
       "<style scoped>\n",
       "    .dataframe tbody tr th:only-of-type {\n",
       "        vertical-align: middle;\n",
       "    }\n",
       "\n",
       "    .dataframe tbody tr th {\n",
       "        vertical-align: top;\n",
       "    }\n",
       "\n",
       "    .dataframe thead tr th {\n",
       "        text-align: left;\n",
       "    }\n",
       "\n",
       "    .dataframe thead tr:last-of-type th {\n",
       "        text-align: right;\n",
       "    }\n",
       "</style>\n",
       "<table border=\"1\" class=\"dataframe\">\n",
       "  <thead>\n",
       "    <tr>\n",
       "      <th></th>\n",
       "      <th colspan=\"3\" halign=\"left\">customer_frequency</th>\n",
       "    </tr>\n",
       "    <tr>\n",
       "      <th></th>\n",
       "      <th>mean</th>\n",
       "      <th>min</th>\n",
       "      <th>max</th>\n",
       "    </tr>\n",
       "    <tr>\n",
       "      <th>baby_flag</th>\n",
       "      <th></th>\n",
       "      <th></th>\n",
       "      <th></th>\n",
       "    </tr>\n",
       "  </thead>\n",
       "  <tbody>\n",
       "    <tr>\n",
       "      <th>0</th>\n",
       "      <td>10.731215</td>\n",
       "      <td>0.0</td>\n",
       "      <td>30.0</td>\n",
       "    </tr>\n",
       "    <tr>\n",
       "      <th>1</th>\n",
       "      <td>8.287965</td>\n",
       "      <td>0.0</td>\n",
       "      <td>30.0</td>\n",
       "    </tr>\n",
       "  </tbody>\n",
       "</table>\n",
       "</div>"
      ],
      "text/plain": [
       "          customer_frequency           \n",
       "                        mean  min   max\n",
       "baby_flag                              \n",
       "0                  10.731215  0.0  30.0\n",
       "1                   8.287965  0.0  30.0"
      ]
     },
     "execution_count": 84,
     "metadata": {},
     "output_type": "execute_result"
    }
   ],
   "source": [
    "# Baby_flag and usage frequency \n",
    "ords_prods_custs_dept_merged.groupby('baby_flag').agg({'customer_frequency': ['mean', 'min', 'max']})"
   ]
  },
  {
   "cell_type": "code",
   "execution_count": 85,
   "id": "4b210b9a-8980-4ab1-81d9-733bee5c81b3",
   "metadata": {},
   "outputs": [
    {
     "data": {
      "text/html": [
       "<div>\n",
       "<style scoped>\n",
       "    .dataframe tbody tr th:only-of-type {\n",
       "        vertical-align: middle;\n",
       "    }\n",
       "\n",
       "    .dataframe tbody tr th {\n",
       "        vertical-align: top;\n",
       "    }\n",
       "\n",
       "    .dataframe thead tr th {\n",
       "        text-align: left;\n",
       "    }\n",
       "\n",
       "    .dataframe thead tr:last-of-type th {\n",
       "        text-align: right;\n",
       "    }\n",
       "</style>\n",
       "<table border=\"1\" class=\"dataframe\">\n",
       "  <thead>\n",
       "    <tr>\n",
       "      <th></th>\n",
       "      <th colspan=\"3\" halign=\"left\">prices</th>\n",
       "    </tr>\n",
       "    <tr>\n",
       "      <th></th>\n",
       "      <th>mean</th>\n",
       "      <th>min</th>\n",
       "      <th>max</th>\n",
       "    </tr>\n",
       "    <tr>\n",
       "      <th>baby_flag</th>\n",
       "      <th></th>\n",
       "      <th></th>\n",
       "      <th></th>\n",
       "    </tr>\n",
       "  </thead>\n",
       "  <tbody>\n",
       "    <tr>\n",
       "      <th>0</th>\n",
       "      <td>12.480604</td>\n",
       "      <td>1.0</td>\n",
       "      <td>99999.0</td>\n",
       "    </tr>\n",
       "    <tr>\n",
       "      <th>1</th>\n",
       "      <td>10.753821</td>\n",
       "      <td>1.0</td>\n",
       "      <td>99999.0</td>\n",
       "    </tr>\n",
       "  </tbody>\n",
       "</table>\n",
       "</div>"
      ],
      "text/plain": [
       "              prices              \n",
       "                mean  min      max\n",
       "baby_flag                         \n",
       "0          12.480604  1.0  99999.0\n",
       "1          10.753821  1.0  99999.0"
      ]
     },
     "execution_count": 85,
     "metadata": {},
     "output_type": "execute_result"
    }
   ],
   "source": [
    "# Baby_flag and expenditure\n",
    "ords_prods_custs_dept_merged.groupby('baby_flag').agg({'prices': ['mean', 'min', 'max']})"
   ]
  },
  {
   "cell_type": "markdown",
   "id": "d2aaf56b-f9c3-42a2-ba24-e7d35e7811db",
   "metadata": {},
   "source": [
    "#### Observation -\n",
    "Customers who did not buy baby supplies have a higher average purchase frequency (10.73) compared to those who purchased baby supplies (8.28). Both groups have the same maximum purchase frequency (30).\n",
    "Customers who did not buy baby supplies spent more on average (12.4) compared to those who purchased baby supplies (10.7). This suggests that while baby supply purchases may occur less frequently, they tend to be larger in value.\n",
    "While customers who did not purchase baby supplies make more frequent purchases, they tend to spend less per transaction than those who bought baby supplies. This could imply that baby supply purchases, although less frequent, are typically larger in value."
   ]
  },
  {
   "cell_type": "code",
   "execution_count": 65,
   "id": "0bc5cd48-13b3-4756-ab67-92dd24a31195",
   "metadata": {},
   "outputs": [
    {
     "data": {
      "image/png": "[encoded data removed]",
      "text/plain": [
       "<Figure size 640x480 with 1 Axes>"
      ]
     },
     "metadata": {},
     "output_type": "display_data"
    }
   ],
   "source": [
    "# Pie chart for customers who bought a baby item atleast one time (baby_flag)\n",
    "baby_pie_chart = ords_prods_custs_dept_merged['baby_flag'].value_counts().plot.pie(label='', labels=['Has purchased baby supplies', 'Has not purchased baby supplies'], autopct=('%1.f%%'), colors=['dodgerblue','darkorange'], textprops={'fontsize': 14})"
   ]
  },
  {
   "cell_type": "markdown",
   "id": "c4d6f5b9-2107-4862-85e0-b4f86f97d30b",
   "metadata": {},
   "source": [
    "#### Observation - Most baby items are bought by customers with dependents, likely parents. But, around a quarter of these purchases come from individuals without dependents, possibly purchases made by grandparents. Therefore, baby items shouldn't be marketed exclusively to customers with children."
   ]
  },
  {
   "cell_type": "code",
   "execution_count": 66,
   "id": "2ccad8ee-021f-4d01-8ce8-da6f52a27118",
   "metadata": {},
   "outputs": [],
   "source": [
    "# Exporting the baby items pie chart\n",
    "baby_pie_chart.figure.savefig(os.path.join(path, '04 Analysis','Visualizations', 'babyitems_dependants_pie.png'), bbox_inches='tight')"
   ]
  },
  {
   "cell_type": "markdown",
   "id": "0c93b09f-b610-45f6-89b9-9d2938e61973",
   "metadata": {},
   "source": [
    "### Pet Supplies"
   ]
  },
  {
   "cell_type": "code",
   "execution_count": 78,
   "id": "6819bcdb-c475-4bf2-8713-bedf2207d83c",
   "metadata": {},
   "outputs": [],
   "source": [
    "#Creating pet profiling variable: \n",
    "#bought pet supplies(1) \n",
    "#didn't buy pet supplies (0)\n",
    "ords_prods_custs_dept_merged['pet_flag'] = (ords_prods_custs_dept_merged['department'] == 'pets').astype(int)"
   ]
  },
  {
   "cell_type": "code",
   "execution_count": 79,
   "id": "f0b36abb-26f1-47c9-a7ee-70d3214d935d",
   "metadata": {},
   "outputs": [],
   "source": [
    "ords_prods_custs_dept_merged['pet_flag'] = ords_prods_custs_dept_merged.groupby('user_id')['pet_flag'].transform('max')"
   ]
  },
  {
   "cell_type": "code",
   "execution_count": 80,
   "id": "c64fc14e-43ac-4805-a907-0679e6388db3",
   "metadata": {},
   "outputs": [
    {
     "data": {
      "text/plain": [
       "pet_flag\n",
       "0    27513213\n",
       "1     3451351\n",
       "Name: count, dtype: int64"
      ]
     },
     "execution_count": 80,
     "metadata": {},
     "output_type": "execute_result"
    }
   ],
   "source": [
    "#Check frequency \n",
    "ords_prods_custs_dept_merged['pet_flag'].value_counts(dropna=False)"
   ]
  },
  {
   "cell_type": "code",
   "execution_count": 83,
   "id": "8a99190e-d6cf-423a-9522-688c228e07d2",
   "metadata": {},
   "outputs": [
    {
     "data": {
      "image/png": "[encoded data removed]",
      "text/plain": [
       "<Figure size 640x480 with 1 Axes>"
      ]
     },
     "metadata": {},
     "output_type": "display_data"
    }
   ],
   "source": [
    "# Pie chart for customers who bought a baby item atleast one time (baby_flag)\n",
    "pet_pie_chart = ords_prods_custs_dept_merged['pet_flag'].value_counts().plot.pie(label='', labels=['Has not purchased not pet supplies', 'Has purchased pet supplies'], autopct=('%1.f%%'), colors=['seagreen','yellowgreen'], textprops={'fontsize': 14})"
   ]
  },
  {
   "cell_type": "code",
   "execution_count": 88,
   "id": "8b28528a-3d40-4ea3-9b9f-ced8bd5365f7",
   "metadata": {},
   "outputs": [],
   "source": [
    "# Exporting the baby items pie chart\n",
    "pet_pie_chart.figure.savefig(os.path.join(path, '04 Analysis','Visualizations', 'petitems_pie.png'), bbox_inches='tight')"
   ]
  },
  {
   "cell_type": "code",
   "execution_count": 86,
   "id": "26f9baa3-1557-433c-be50-ba3f60f29d01",
   "metadata": {},
   "outputs": [
    {
     "data": {
      "text/html": [
       "<div>\n",
       "<style scoped>\n",
       "    .dataframe tbody tr th:only-of-type {\n",
       "        vertical-align: middle;\n",
       "    }\n",
       "\n",
       "    .dataframe tbody tr th {\n",
       "        vertical-align: top;\n",
       "    }\n",
       "\n",
       "    .dataframe thead tr th {\n",
       "        text-align: left;\n",
       "    }\n",
       "\n",
       "    .dataframe thead tr:last-of-type th {\n",
       "        text-align: right;\n",
       "    }\n",
       "</style>\n",
       "<table border=\"1\" class=\"dataframe\">\n",
       "  <thead>\n",
       "    <tr>\n",
       "      <th></th>\n",
       "      <th colspan=\"3\" halign=\"left\">customer_frequency</th>\n",
       "    </tr>\n",
       "    <tr>\n",
       "      <th></th>\n",
       "      <th>mean</th>\n",
       "      <th>min</th>\n",
       "      <th>max</th>\n",
       "    </tr>\n",
       "    <tr>\n",
       "      <th>pet_flag</th>\n",
       "      <th></th>\n",
       "      <th></th>\n",
       "      <th></th>\n",
       "    </tr>\n",
       "  </thead>\n",
       "  <tbody>\n",
       "    <tr>\n",
       "      <th>0</th>\n",
       "      <td>10.052380</td>\n",
       "      <td>0.0</td>\n",
       "      <td>30.0</td>\n",
       "    </tr>\n",
       "    <tr>\n",
       "      <th>1</th>\n",
       "      <td>9.197913</td>\n",
       "      <td>0.0</td>\n",
       "      <td>30.0</td>\n",
       "    </tr>\n",
       "  </tbody>\n",
       "</table>\n",
       "</div>"
      ],
      "text/plain": [
       "         customer_frequency           \n",
       "                       mean  min   max\n",
       "pet_flag                              \n",
       "0                 10.052380  0.0  30.0\n",
       "1                  9.197913  0.0  30.0"
      ]
     },
     "execution_count": 86,
     "metadata": {},
     "output_type": "execute_result"
    }
   ],
   "source": [
    "# Baby_flag and usage frequency \n",
    "ords_prods_custs_dept_merged.groupby('pet_flag').agg({'customer_frequency': ['mean', 'min', 'max']})"
   ]
  },
  {
   "cell_type": "code",
   "execution_count": 87,
   "id": "0e930db2-1f14-4adb-884b-acbbbe98e671",
   "metadata": {},
   "outputs": [
    {
     "data": {
      "text/html": [
       "<div>\n",
       "<style scoped>\n",
       "    .dataframe tbody tr th:only-of-type {\n",
       "        vertical-align: middle;\n",
       "    }\n",
       "\n",
       "    .dataframe tbody tr th {\n",
       "        vertical-align: top;\n",
       "    }\n",
       "\n",
       "    .dataframe thead tr th {\n",
       "        text-align: left;\n",
       "    }\n",
       "\n",
       "    .dataframe thead tr:last-of-type th {\n",
       "        text-align: right;\n",
       "    }\n",
       "</style>\n",
       "<table border=\"1\" class=\"dataframe\">\n",
       "  <thead>\n",
       "    <tr>\n",
       "      <th></th>\n",
       "      <th colspan=\"3\" halign=\"left\">prices</th>\n",
       "    </tr>\n",
       "    <tr>\n",
       "      <th></th>\n",
       "      <th>mean</th>\n",
       "      <th>min</th>\n",
       "      <th>max</th>\n",
       "    </tr>\n",
       "    <tr>\n",
       "      <th>pet_flag</th>\n",
       "      <th></th>\n",
       "      <th></th>\n",
       "      <th></th>\n",
       "    </tr>\n",
       "  </thead>\n",
       "  <tbody>\n",
       "    <tr>\n",
       "      <th>0</th>\n",
       "      <td>11.635643</td>\n",
       "      <td>1.0</td>\n",
       "      <td>99999.0</td>\n",
       "    </tr>\n",
       "    <tr>\n",
       "      <th>1</th>\n",
       "      <td>14.308121</td>\n",
       "      <td>1.0</td>\n",
       "      <td>99999.0</td>\n",
       "    </tr>\n",
       "  </tbody>\n",
       "</table>\n",
       "</div>"
      ],
      "text/plain": [
       "             prices              \n",
       "               mean  min      max\n",
       "pet_flag                         \n",
       "0         11.635643  1.0  99999.0\n",
       "1         14.308121  1.0  99999.0"
      ]
     },
     "execution_count": 87,
     "metadata": {},
     "output_type": "execute_result"
    }
   ],
   "source": [
    "# Baby_flag and expenditure\n",
    "ords_prods_custs_dept_merged.groupby('pet_flag').agg({'prices': ['mean', 'min', 'max']})"
   ]
  },
  {
   "cell_type": "markdown",
   "id": "41aa23f0-3824-4c55-ab51-507efdbdbddd",
   "metadata": {},
   "source": [
    "#### Observation -\n",
    "Customers who did not purchase pet supplies have a slightly higher average purchase frequency (10.5) compared to those who bought pet supplies (9.19). However, the maximum purchase frequency is the same (30) for both groups.\n",
    "Customers who purchased pet supplies spent more on average (14.3) compared to those who did not buy pet supplies (11.63). This suggests that pet-related purchases might be associated with higher transaction values.\n",
    "customers who didn’t purchase pet supplies tend to make more frequent purchases, those who bought pet supplies tend to spend more per transaction. This could suggest that pet supplies purchases are less frequent but larger in value compared to other product categories."
   ]
  },
  {
   "cell_type": "markdown",
   "id": "f32f109a-8042-4cca-b6cb-ebdea78046fc",
   "metadata": {},
   "source": [
    "# Compare your customer profiles with regions and departments. Produce suitable charts to illustrate your reports and export them in your project folder."
   ]
  },
  {
   "cell_type": "code",
   "execution_count": 89,
   "id": "3017e5e9-ef02-4744-9e71-0aa8b530093e",
   "metadata": {},
   "outputs": [],
   "source": [
    "# Create a crosstab between region and age_profile\n",
    "\n",
    "age_profile_crosstab = pd.crosstab(ords_prods_custs_dept_merged['region'], ords_prods_custs_dept_merged['age_group'], dropna = False)"
   ]
  },
  {
   "cell_type": "code",
   "execution_count": 91,
   "id": "e27b6d90-7729-4435-b2a8-6a6316c0afe5",
   "metadata": {},
   "outputs": [
    {
     "data": {
      "text/html": [
       "<div>\n",
       "<style scoped>\n",
       "    .dataframe tbody tr th:only-of-type {\n",
       "        vertical-align: middle;\n",
       "    }\n",
       "\n",
       "    .dataframe tbody tr th {\n",
       "        vertical-align: top;\n",
       "    }\n",
       "\n",
       "    .dataframe thead th {\n",
       "        text-align: right;\n",
       "    }\n",
       "</style>\n",
       "<table border=\"1\" class=\"dataframe\">\n",
       "  <thead>\n",
       "    <tr style=\"text-align: right;\">\n",
       "      <th>age_group</th>\n",
       "      <th>Adult</th>\n",
       "      <th>Middle aged</th>\n",
       "      <th>Senior Citizen</th>\n",
       "      <th>Young adult</th>\n",
       "    </tr>\n",
       "    <tr>\n",
       "      <th>region</th>\n",
       "      <th></th>\n",
       "      <th></th>\n",
       "      <th></th>\n",
       "      <th></th>\n",
       "    </tr>\n",
       "  </thead>\n",
       "  <tbody>\n",
       "    <tr>\n",
       "      <th>Midwest</th>\n",
       "      <td>1691375</td>\n",
       "      <td>2874466</td>\n",
       "      <td>1904046</td>\n",
       "      <td>791626</td>\n",
       "    </tr>\n",
       "    <tr>\n",
       "      <th>Northeast</th>\n",
       "      <td>1268947</td>\n",
       "      <td>2108141</td>\n",
       "      <td>1484807</td>\n",
       "      <td>602790</td>\n",
       "    </tr>\n",
       "    <tr>\n",
       "      <th>South</th>\n",
       "      <td>2443111</td>\n",
       "      <td>3994431</td>\n",
       "      <td>2708461</td>\n",
       "      <td>1165136</td>\n",
       "    </tr>\n",
       "    <tr>\n",
       "      <th>West</th>\n",
       "      <td>1846483</td>\n",
       "      <td>3126872</td>\n",
       "      <td>2098230</td>\n",
       "      <td>855642</td>\n",
       "    </tr>\n",
       "  </tbody>\n",
       "</table>\n",
       "</div>"
      ],
      "text/plain": [
       "age_group    Adult  Middle aged  Senior Citizen  Young adult\n",
       "region                                                      \n",
       "Midwest    1691375      2874466         1904046       791626\n",
       "Northeast  1268947      2108141         1484807       602790\n",
       "South      2443111      3994431         2708461      1165136\n",
       "West       1846483      3126872         2098230       855642"
      ]
     },
     "execution_count": 91,
     "metadata": {},
     "output_type": "execute_result"
    }
   ],
   "source": [
    "#Check crosstab\n",
    "age_profile_crosstab"
   ]
  },
  {
   "cell_type": "code",
   "execution_count": 94,
   "id": "80c67574-35ff-45eb-95e6-b76d66d5bb0d",
   "metadata": {},
   "outputs": [
    {
     "data": {
      "image/png": "[encoded data removed]",
      "text/plain": [
       "<Figure size 1000x800 with 1 Axes>"
      ]
     },
     "metadata": {},
     "output_type": "display_data"
    }
   ],
   "source": [
    "# Create a bar chart for age_profile and region\n",
    "\n",
    "age_profile_crosstab_bar = age_profile_crosstab.plot(kind ='bar', stacked = False, color = ['LightSkyBlue', 'RoyalBlue', 'DodgerBlue', 'MediumBlue'], figsize=(10, 8))\n",
    "plt.title('Age Profiles by Region', fontsize = 16)\n",
    "plt.legend(loc = 'upper center', ncol = 4)\n",
    "plt.xlabel('Region')\n",
    "plt.show()"
   ]
  },
  {
   "cell_type": "code",
   "execution_count": 95,
   "id": "1ade285f-7a8a-48b5-9e69-c45fa6c5e943",
   "metadata": {},
   "outputs": [],
   "source": [
    "# Export bar chart\n",
    "\n",
    "age_profile_crosstab_bar.figure.savefig(os.path.join(path, '04 Analysis','Visualizations', 'age_group_regions_bar_chart.png'))"
   ]
  },
  {
   "cell_type": "code",
   "execution_count": 96,
   "id": "7cfa2f3f-a2f4-4c81-9a2a-91371ac7e353",
   "metadata": {},
   "outputs": [],
   "source": [
    "# Create a crosstab for region and income_group\n",
    "\n",
    "income_group_crosstab = pd.crosstab(ords_prods_custs_dept_merged['region'], ords_prods_custs_dept_merged['income_group'], dropna = False)"
   ]
  },
  {
   "cell_type": "code",
   "execution_count": 97,
   "id": "42d262e8-bbf0-4f9c-9255-7022e5722cec",
   "metadata": {},
   "outputs": [
    {
     "data": {
      "text/html": [
       "<div>\n",
       "<style scoped>\n",
       "    .dataframe tbody tr th:only-of-type {\n",
       "        vertical-align: middle;\n",
       "    }\n",
       "\n",
       "    .dataframe tbody tr th {\n",
       "        vertical-align: top;\n",
       "    }\n",
       "\n",
       "    .dataframe thead th {\n",
       "        text-align: right;\n",
       "    }\n",
       "</style>\n",
       "<table border=\"1\" class=\"dataframe\">\n",
       "  <thead>\n",
       "    <tr style=\"text-align: right;\">\n",
       "      <th>income_group</th>\n",
       "      <th>High Income</th>\n",
       "      <th>Low Income</th>\n",
       "      <th>Middle Income</th>\n",
       "      <th>NaN</th>\n",
       "    </tr>\n",
       "    <tr>\n",
       "      <th>region</th>\n",
       "      <th></th>\n",
       "      <th></th>\n",
       "      <th></th>\n",
       "      <th></th>\n",
       "    </tr>\n",
       "  </thead>\n",
       "  <tbody>\n",
       "    <tr>\n",
       "      <th>Midwest</th>\n",
       "      <td>1841838</td>\n",
       "      <td>3568342</td>\n",
       "      <td>1851271</td>\n",
       "      <td>62</td>\n",
       "    </tr>\n",
       "    <tr>\n",
       "      <th>Northeast</th>\n",
       "      <td>1372838</td>\n",
       "      <td>2722767</td>\n",
       "      <td>1369080</td>\n",
       "      <td>0</td>\n",
       "    </tr>\n",
       "    <tr>\n",
       "      <th>South</th>\n",
       "      <td>2549267</td>\n",
       "      <td>5232335</td>\n",
       "      <td>2528205</td>\n",
       "      <td>1332</td>\n",
       "    </tr>\n",
       "    <tr>\n",
       "      <th>West</th>\n",
       "      <td>1977148</td>\n",
       "      <td>3957693</td>\n",
       "      <td>1992156</td>\n",
       "      <td>230</td>\n",
       "    </tr>\n",
       "  </tbody>\n",
       "</table>\n",
       "</div>"
      ],
      "text/plain": [
       "income_group  High Income  Low Income  Middle Income   NaN\n",
       "region                                                    \n",
       "Midwest           1841838     3568342        1851271    62\n",
       "Northeast         1372838     2722767        1369080     0\n",
       "South             2549267     5232335        2528205  1332\n",
       "West              1977148     3957693        1992156   230"
      ]
     },
     "execution_count": 97,
     "metadata": {},
     "output_type": "execute_result"
    }
   ],
   "source": [
    "# Checking crosstab\n",
    "income_group_crosstab"
   ]
  },
  {
   "cell_type": "code",
   "execution_count": 99,
   "id": "06909550-b946-4cb0-a7e6-951cb4bc8c71",
   "metadata": {},
   "outputs": [
    {
     "data": {
      "image/png": "[encoded data removed]",
      "text/plain": [
       "<Figure size 1000x800 with 1 Axes>"
      ]
     },
     "metadata": {},
     "output_type": "display_data"
    }
   ],
   "source": [
    "# Create a bar chart for income_group and region\n",
    "\n",
    "income_group_crosstab_bar = income_group_crosstab.plot(kind ='bar', stacked = False, color = ['LightCoral', 'FireBrick', 'DarkRed'], figsize=(10, 8))\n",
    "plt.title('Incomes Groups across Regions', fontsize = 16)\n",
    "plt.legend(loc = 'upper center', ncol = 4)\n",
    "plt.xlabel('Region')\n",
    "plt.show()"
   ]
  },
  {
   "cell_type": "code",
   "execution_count": 100,
   "id": "a22459ee-2b6d-44b6-9862-b4aed9b65eef",
   "metadata": {},
   "outputs": [],
   "source": [
    "# Export bar chart\n",
    "income_group_crosstab_bar.figure.savefig(os.path.join(path, '04 Analysis','Visualizations', 'income_group_regions_bar_chart.png'))"
   ]
  },
  {
   "cell_type": "code",
   "execution_count": 101,
   "id": "c1d29c88-e112-4525-9905-7f6ffc7ae539",
   "metadata": {},
   "outputs": [],
   "source": [
    "# Create a crosstab for region and dependents_profile\n",
    "dependents_flag_crosstab = pd.crosstab(ords_prods_custs_dept_merged['region'], ords_prods_custs_dept_merged['dependents_flag'], dropna = False)"
   ]
  },
  {
   "cell_type": "code",
   "execution_count": 103,
   "id": "d2836224-90f7-4de1-9939-a9bfc08c9b52",
   "metadata": {},
   "outputs": [
    {
     "data": {
      "image/png": "[encoded data removed]",
      "text/plain": [
       "<Figure size 1000x800 with 1 Axes>"
      ]
     },
     "metadata": {},
     "output_type": "display_data"
    }
   ],
   "source": [
    "# Create a bar chart for income_group and region\n",
    "\n",
    "dependents_flag_crosstab_bar = dependents_flag_crosstab.plot(kind ='bar', stacked = False, color = ['skyblue','blue'], figsize=(10, 8))\n",
    "plt.title('Dependents by Regions', fontsize = 16)\n",
    "plt.legend(loc = 'upper center', ncol = 4)\n",
    "plt.xlabel('Region')\n",
    "plt.show()"
   ]
  },
  {
   "cell_type": "code",
   "execution_count": 104,
   "id": "a1ac8c08-e25d-4f2c-95ed-946db5ecd9a0",
   "metadata": {},
   "outputs": [],
   "source": [
    "# Export bar chart\n",
    "\n",
    "dependents_flag_crosstab_bar.figure.savefig(os.path.join(path, '04 Analysis','Visualizations', 'dependents_flag_regions_bar_chart.png'))"
   ]
  },
  {
   "cell_type": "code",
   "execution_count": 105,
   "id": "ed10b153-f080-496c-9c15-c997cd536017",
   "metadata": {},
   "outputs": [],
   "source": [
    "# Creating crosstab for region and department\n",
    "region_departments_crosstab_bar = pd.crosstab(ords_prods_custs_dept_merged['department'], ords_prods_custs_dept_merged['region'], dropna = False)"
   ]
  },
  {
   "cell_type": "code",
   "execution_count": 106,
   "id": "07f8e734-d3fd-4b08-ab34-a7f55942832d",
   "metadata": {},
   "outputs": [
    {
     "data": {
      "text/html": [
       "<div>\n",
       "<style scoped>\n",
       "    .dataframe tbody tr th:only-of-type {\n",
       "        vertical-align: middle;\n",
       "    }\n",
       "\n",
       "    .dataframe tbody tr th {\n",
       "        vertical-align: top;\n",
       "    }\n",
       "\n",
       "    .dataframe thead th {\n",
       "        text-align: right;\n",
       "    }\n",
       "</style>\n",
       "<table border=\"1\" class=\"dataframe\">\n",
       "  <thead>\n",
       "    <tr style=\"text-align: right;\">\n",
       "      <th>region</th>\n",
       "      <th>Midwest</th>\n",
       "      <th>Northeast</th>\n",
       "      <th>South</th>\n",
       "      <th>West</th>\n",
       "    </tr>\n",
       "    <tr>\n",
       "      <th>department</th>\n",
       "      <th></th>\n",
       "      <th></th>\n",
       "      <th></th>\n",
       "      <th></th>\n",
       "    </tr>\n",
       "  </thead>\n",
       "  <tbody>\n",
       "    <tr>\n",
       "      <th>alcohol</th>\n",
       "      <td>34043</td>\n",
       "      <td>25017</td>\n",
       "      <td>48813</td>\n",
       "      <td>36754</td>\n",
       "    </tr>\n",
       "    <tr>\n",
       "      <th>babies</th>\n",
       "      <td>95741</td>\n",
       "      <td>72712</td>\n",
       "      <td>139511</td>\n",
       "      <td>102428</td>\n",
       "    </tr>\n",
       "    <tr>\n",
       "      <th>bakery</th>\n",
       "      <td>261753</td>\n",
       "      <td>199300</td>\n",
       "      <td>371620</td>\n",
       "      <td>288155</td>\n",
       "    </tr>\n",
       "    <tr>\n",
       "      <th>beverages</th>\n",
       "      <td>598979</td>\n",
       "      <td>462929</td>\n",
       "      <td>859419</td>\n",
       "      <td>650574</td>\n",
       "    </tr>\n",
       "    <tr>\n",
       "      <th>breakfast</th>\n",
       "      <td>156155</td>\n",
       "      <td>117904</td>\n",
       "      <td>223172</td>\n",
       "      <td>173619</td>\n",
       "    </tr>\n",
       "    <tr>\n",
       "      <th>bulk</th>\n",
       "      <td>7929</td>\n",
       "      <td>5599</td>\n",
       "      <td>11180</td>\n",
       "      <td>8743</td>\n",
       "    </tr>\n",
       "    <tr>\n",
       "      <th>canned goods</th>\n",
       "      <td>237459</td>\n",
       "      <td>176936</td>\n",
       "      <td>337458</td>\n",
       "      <td>260221</td>\n",
       "    </tr>\n",
       "    <tr>\n",
       "      <th>dairy eggs</th>\n",
       "      <td>1212490</td>\n",
       "      <td>914616</td>\n",
       "      <td>1723016</td>\n",
       "      <td>1327060</td>\n",
       "    </tr>\n",
       "    <tr>\n",
       "      <th>deli</th>\n",
       "      <td>234464</td>\n",
       "      <td>178398</td>\n",
       "      <td>333620</td>\n",
       "      <td>257352</td>\n",
       "    </tr>\n",
       "    <tr>\n",
       "      <th>dry goods pasta</th>\n",
       "      <td>193463</td>\n",
       "      <td>143817</td>\n",
       "      <td>272813</td>\n",
       "      <td>212043</td>\n",
       "    </tr>\n",
       "    <tr>\n",
       "      <th>frozen</th>\n",
       "      <td>498225</td>\n",
       "      <td>370436</td>\n",
       "      <td>709906</td>\n",
       "      <td>543164</td>\n",
       "    </tr>\n",
       "    <tr>\n",
       "      <th>household</th>\n",
       "      <td>166992</td>\n",
       "      <td>124604</td>\n",
       "      <td>230061</td>\n",
       "      <td>178200</td>\n",
       "    </tr>\n",
       "    <tr>\n",
       "      <th>international</th>\n",
       "      <td>60666</td>\n",
       "      <td>44678</td>\n",
       "      <td>84649</td>\n",
       "      <td>65998</td>\n",
       "    </tr>\n",
       "    <tr>\n",
       "      <th>meat seafood</th>\n",
       "      <td>158260</td>\n",
       "      <td>118571</td>\n",
       "      <td>224120</td>\n",
       "      <td>173830</td>\n",
       "    </tr>\n",
       "    <tr>\n",
       "      <th>missing</th>\n",
       "      <td>15563</td>\n",
       "      <td>11512</td>\n",
       "      <td>21787</td>\n",
       "      <td>15906</td>\n",
       "    </tr>\n",
       "    <tr>\n",
       "      <th>other</th>\n",
       "      <td>7983</td>\n",
       "      <td>6268</td>\n",
       "      <td>11579</td>\n",
       "      <td>8581</td>\n",
       "    </tr>\n",
       "    <tr>\n",
       "      <th>pantry</th>\n",
       "      <td>420334</td>\n",
       "      <td>312731</td>\n",
       "      <td>591754</td>\n",
       "      <td>457886</td>\n",
       "    </tr>\n",
       "    <tr>\n",
       "      <th>personal care</th>\n",
       "      <td>100398</td>\n",
       "      <td>74765</td>\n",
       "      <td>142496</td>\n",
       "      <td>106647</td>\n",
       "    </tr>\n",
       "    <tr>\n",
       "      <th>pets</th>\n",
       "      <td>21358</td>\n",
       "      <td>17734</td>\n",
       "      <td>29909</td>\n",
       "      <td>24059</td>\n",
       "    </tr>\n",
       "    <tr>\n",
       "      <th>produce</th>\n",
       "      <td>2134115</td>\n",
       "      <td>1593004</td>\n",
       "      <td>3027476</td>\n",
       "      <td>2324678</td>\n",
       "    </tr>\n",
       "    <tr>\n",
       "      <th>snacks</th>\n",
       "      <td>645143</td>\n",
       "      <td>493154</td>\n",
       "      <td>916780</td>\n",
       "      <td>711329</td>\n",
       "    </tr>\n",
       "  </tbody>\n",
       "</table>\n",
       "</div>"
      ],
      "text/plain": [
       "region           Midwest  Northeast    South     West\n",
       "department                                           \n",
       "alcohol            34043      25017    48813    36754\n",
       "babies             95741      72712   139511   102428\n",
       "bakery            261753     199300   371620   288155\n",
       "beverages         598979     462929   859419   650574\n",
       "breakfast         156155     117904   223172   173619\n",
       "bulk                7929       5599    11180     8743\n",
       "canned goods      237459     176936   337458   260221\n",
       "dairy eggs       1212490     914616  1723016  1327060\n",
       "deli              234464     178398   333620   257352\n",
       "dry goods pasta   193463     143817   272813   212043\n",
       "frozen            498225     370436   709906   543164\n",
       "household         166992     124604   230061   178200\n",
       "international      60666      44678    84649    65998\n",
       "meat seafood      158260     118571   224120   173830\n",
       "missing            15563      11512    21787    15906\n",
       "other               7983       6268    11579     8581\n",
       "pantry            420334     312731   591754   457886\n",
       "personal care     100398      74765   142496   106647\n",
       "pets               21358      17734    29909    24059\n",
       "produce          2134115    1593004  3027476  2324678\n",
       "snacks            645143     493154   916780   711329"
      ]
     },
     "execution_count": 106,
     "metadata": {},
     "output_type": "execute_result"
    }
   ],
   "source": [
    "# Checking Crosstab\n",
    "region_departments_crosstab_bar"
   ]
  },
  {
   "cell_type": "code",
   "execution_count": 107,
   "id": "b31bdc8b-7fa0-455d-b87e-c16e53cb9239",
   "metadata": {},
   "outputs": [
    {
     "data": {
      "image/png": "[encoded data removed]",
      "text/plain": [
       "<Figure size 640x480 with 1 Axes>"
      ]
     },
     "metadata": {},
     "output_type": "display_data"
    }
   ],
   "source": [
    "# Region_department Bar Chart\n",
    "region_departments_crosstab_barchart = region_departments_crosstab_bar.plot(kind='bar', stacked =True)"
   ]
  },
  {
   "cell_type": "code",
   "execution_count": 108,
   "id": "33f6b01d-813c-424e-ae64-4e4b0b2d9757",
   "metadata": {},
   "outputs": [],
   "source": [
    "# Exporting bar chart\n",
    "region_departments_crosstab_barchart.figure.savefig(os.path.join(path, '04 Analysis','Visualizations', 'region_department_barchart.png'))"
   ]
  },
  {
   "cell_type": "code",
   "execution_count": 109,
   "id": "3915d22d-d58d-40bb-b6d6-4e4e1526fd1e",
   "metadata": {},
   "outputs": [],
   "source": [
    "# Creating crosstab for income and frequency\n",
    "incomegroup_frequencyflag_crosstab = pd.crosstab(ords_prods_custs_dept_merged['income_group'], ords_prods_custs_dept_merged['frequency_flag'], dropna = False)"
   ]
  },
  {
   "cell_type": "code",
   "execution_count": 110,
   "id": "1bd2ac0d-0ab4-4950-8b26-f38f8250fc34",
   "metadata": {},
   "outputs": [
    {
     "data": {
      "text/html": [
       "<div>\n",
       "<style scoped>\n",
       "    .dataframe tbody tr th:only-of-type {\n",
       "        vertical-align: middle;\n",
       "    }\n",
       "\n",
       "    .dataframe tbody tr th {\n",
       "        vertical-align: top;\n",
       "    }\n",
       "\n",
       "    .dataframe thead th {\n",
       "        text-align: right;\n",
       "    }\n",
       "</style>\n",
       "<table border=\"1\" class=\"dataframe\">\n",
       "  <thead>\n",
       "    <tr style=\"text-align: right;\">\n",
       "      <th>frequency_flag</th>\n",
       "      <th>Frequent customer</th>\n",
       "      <th>Non-frequent customer</th>\n",
       "      <th>Regular customer</th>\n",
       "    </tr>\n",
       "    <tr>\n",
       "      <th>income_group</th>\n",
       "      <th></th>\n",
       "      <th></th>\n",
       "      <th></th>\n",
       "    </tr>\n",
       "  </thead>\n",
       "  <tbody>\n",
       "    <tr>\n",
       "      <th>High Income</th>\n",
       "      <td>5331414</td>\n",
       "      <td>700349</td>\n",
       "      <td>1709328</td>\n",
       "    </tr>\n",
       "    <tr>\n",
       "      <th>Low Income</th>\n",
       "      <td>10564342</td>\n",
       "      <td>1486423</td>\n",
       "      <td>3430372</td>\n",
       "    </tr>\n",
       "    <tr>\n",
       "      <th>Middle Income</th>\n",
       "      <td>5307388</td>\n",
       "      <td>708081</td>\n",
       "      <td>1725243</td>\n",
       "    </tr>\n",
       "    <tr>\n",
       "      <th>NaN</th>\n",
       "      <td>1332</td>\n",
       "      <td>122</td>\n",
       "      <td>170</td>\n",
       "    </tr>\n",
       "  </tbody>\n",
       "</table>\n",
       "</div>"
      ],
      "text/plain": [
       "frequency_flag  Frequent customer  Non-frequent customer  Regular customer\n",
       "income_group                                                              \n",
       "High Income               5331414                 700349           1709328\n",
       "Low Income               10564342                1486423           3430372\n",
       "Middle Income             5307388                 708081           1725243\n",
       "NaN                          1332                    122               170"
      ]
     },
     "execution_count": 110,
     "metadata": {},
     "output_type": "execute_result"
    }
   ],
   "source": [
    "# Checking crosstab\n",
    "incomegroup_frequencyflag_crosstab"
   ]
  },
  {
   "cell_type": "code",
   "execution_count": 111,
   "id": "af1e0a0b-650c-4ac1-bea4-84767720bdcb",
   "metadata": {},
   "outputs": [
    {
     "data": {
      "image/png": "[encoded data removed]",
      "text/plain": [
       "<Figure size 640x480 with 1 Axes>"
      ]
     },
     "metadata": {},
     "output_type": "display_data"
    }
   ],
   "source": [
    "# Income Group and Order frequency Bar Chart\n",
    "incomegroup_frequencyflag_crosstab_bar = incomegroup_frequencyflag_crosstab.plot(kind='bar', stacked =True)"
   ]
  },
  {
   "cell_type": "code",
   "execution_count": 112,
   "id": "e36addcf-faba-482e-8d62-93b354929050",
   "metadata": {},
   "outputs": [],
   "source": [
    "# Exporting bar chart\n",
    "\n",
    "incomegroup_frequencyflag_crosstab_bar.figure.savefig(os.path.join(path, '04 Analysis','Visualizations', 'incomegroup_frequencyflag_crosstab_bar.png'))"
   ]
  },
  {
   "cell_type": "code",
   "execution_count": 113,
   "id": "f22254db-af97-4a0c-8975-590c0f6ce78c",
   "metadata": {},
   "outputs": [],
   "source": [
    "# Creating crosstab for age and frequency\n",
    "\n",
    "agegroup_frequencyflag_crosstab = pd.crosstab(ords_prods_custs_dept_merged['age_group'],ords_prods_custs_dept_merged['frequency_flag'], dropna = False)"
   ]
  },
  {
   "cell_type": "code",
   "execution_count": 114,
   "id": "95cbc7d5-50a6-44a8-bdc4-8168cfa79d73",
   "metadata": {},
   "outputs": [
    {
     "data": {
      "text/html": [
       "<div>\n",
       "<style scoped>\n",
       "    .dataframe tbody tr th:only-of-type {\n",
       "        vertical-align: middle;\n",
       "    }\n",
       "\n",
       "    .dataframe tbody tr th {\n",
       "        vertical-align: top;\n",
       "    }\n",
       "\n",
       "    .dataframe thead th {\n",
       "        text-align: right;\n",
       "    }\n",
       "</style>\n",
       "<table border=\"1\" class=\"dataframe\">\n",
       "  <thead>\n",
       "    <tr style=\"text-align: right;\">\n",
       "      <th>frequency_flag</th>\n",
       "      <th>Frequent customer</th>\n",
       "      <th>Non-frequent customer</th>\n",
       "      <th>Regular customer</th>\n",
       "    </tr>\n",
       "    <tr>\n",
       "      <th>age_group</th>\n",
       "      <th></th>\n",
       "      <th></th>\n",
       "      <th></th>\n",
       "    </tr>\n",
       "  </thead>\n",
       "  <tbody>\n",
       "    <tr>\n",
       "      <th>Adult</th>\n",
       "      <td>4948664</td>\n",
       "      <td>670619</td>\n",
       "      <td>1630633</td>\n",
       "    </tr>\n",
       "    <tr>\n",
       "      <th>Middle aged</th>\n",
       "      <td>8274189</td>\n",
       "      <td>1148024</td>\n",
       "      <td>2681697</td>\n",
       "    </tr>\n",
       "    <tr>\n",
       "      <th>Senior Citizen</th>\n",
       "      <td>5630976</td>\n",
       "      <td>760132</td>\n",
       "      <td>1804436</td>\n",
       "    </tr>\n",
       "    <tr>\n",
       "      <th>Young adult</th>\n",
       "      <td>2350647</td>\n",
       "      <td>316200</td>\n",
       "      <td>748347</td>\n",
       "    </tr>\n",
       "  </tbody>\n",
       "</table>\n",
       "</div>"
      ],
      "text/plain": [
       "frequency_flag  Frequent customer  Non-frequent customer  Regular customer\n",
       "age_group                                                                 \n",
       "Adult                     4948664                 670619           1630633\n",
       "Middle aged               8274189                1148024           2681697\n",
       "Senior Citizen            5630976                 760132           1804436\n",
       "Young adult               2350647                 316200            748347"
      ]
     },
     "execution_count": 114,
     "metadata": {},
     "output_type": "execute_result"
    }
   ],
   "source": [
    "#Check output\n",
    "agegroup_frequencyflag_crosstab"
   ]
  },
  {
   "cell_type": "code",
   "execution_count": 119,
   "id": "b28a77fa-04ca-4b3b-ab55-8469acf23059",
   "metadata": {},
   "outputs": [
    {
     "data": {
      "image/png": "[encoded data removed]",
      "text/plain": [
       "<Figure size 1000x800 with 1 Axes>"
      ]
     },
     "metadata": {},
     "output_type": "display_data"
    }
   ],
   "source": [
    "# Income Group and Order frequency Bar Chart\n",
    "agegroup_frequencyflag_crosstab_bar = agegroup_frequencyflag_crosstab.plot(kind ='bar', stacked = False, color = ['skyblue','royalblue','blue'], figsize=(10, 8))\n",
    "plt.title('Age group by order frequency', fontsize = 16)\n",
    "plt.legend(loc = 'upper center', ncol = 4)\n",
    "plt.xlabel('age group')\n",
    "plt.show()"
   ]
  },
  {
   "cell_type": "code",
   "execution_count": 120,
   "id": "79a58969-4a47-425d-b61c-72e523715767",
   "metadata": {},
   "outputs": [],
   "source": [
    "# Exporting bar chart\n",
    "agegroup_frequencyflag_crosstab_bar.figure.savefig(os.path.join(path, '04 Analysis','Visualizations', 'agegroup_frequencyflag_crosstab_bar.png'))"
   ]
  },
  {
   "cell_type": "markdown",
   "id": "a863cec3-3793-4878-a28f-e6113e7b4365",
   "metadata": {},
   "source": [
    "#### Depicting the product ranges"
   ]
  },
  {
   "cell_type": "code",
   "execution_count": 129,
   "id": "1b6b0a89-4472-4a24-9102-d365e1e37e03",
   "metadata": {},
   "outputs": [
    {
     "data": {
      "image/png": "[encoded data removed]",
      "text/plain": [
       "<Figure size 640x480 with 1 Axes>"
      ]
     },
     "metadata": {},
     "output_type": "display_data"
    }
   ],
   "source": [
    "#Create pie chart\n",
    "price_range_loc_pie = ords_prods_custs_dept_merged['price_range_loc'].value_counts().plot.pie(autopct=('%1.f%%'))"
   ]
  },
  {
   "cell_type": "code",
   "execution_count": 122,
   "id": "10a5d504-c5e3-437c-bbd5-fb5171beb177",
   "metadata": {},
   "outputs": [],
   "source": [
    "# Export and save\n",
    "\n",
    "price_range_loc_pie.figure.savefig(os.path.join(path, '04 Analysis','Visualizations', 'price_range_loc_pie.png'))"
   ]
  },
  {
   "cell_type": "code",
   "execution_count": 123,
   "id": "627bc852-9fd3-47f4-987b-7eeffa0a960e",
   "metadata": {},
   "outputs": [],
   "source": [
    "# Creating crosstab for department and order frequency\n",
    "dept_frequencyflag_crosstab = pd.crosstab(ords_prods_custs_dept_merged['department'], ords_prods_custs_dept_merged['frequency_flag'], dropna = False)"
   ]
  },
  {
   "cell_type": "code",
   "execution_count": 124,
   "id": "d07b0333-b541-445c-9282-16487f3d74e4",
   "metadata": {},
   "outputs": [
    {
     "data": {
      "text/html": [
       "<div>\n",
       "<style scoped>\n",
       "    .dataframe tbody tr th:only-of-type {\n",
       "        vertical-align: middle;\n",
       "    }\n",
       "\n",
       "    .dataframe tbody tr th {\n",
       "        vertical-align: top;\n",
       "    }\n",
       "\n",
       "    .dataframe thead th {\n",
       "        text-align: right;\n",
       "    }\n",
       "</style>\n",
       "<table border=\"1\" class=\"dataframe\">\n",
       "  <thead>\n",
       "    <tr style=\"text-align: right;\">\n",
       "      <th>frequency_flag</th>\n",
       "      <th>Frequent customer</th>\n",
       "      <th>Non-frequent customer</th>\n",
       "      <th>Regular customer</th>\n",
       "    </tr>\n",
       "    <tr>\n",
       "      <th>department</th>\n",
       "      <th></th>\n",
       "      <th></th>\n",
       "      <th></th>\n",
       "    </tr>\n",
       "  </thead>\n",
       "  <tbody>\n",
       "    <tr>\n",
       "      <th>alcohol</th>\n",
       "      <td>100491</td>\n",
       "      <td>13271</td>\n",
       "      <td>30865</td>\n",
       "    </tr>\n",
       "    <tr>\n",
       "      <th>babies</th>\n",
       "      <td>316214</td>\n",
       "      <td>25297</td>\n",
       "      <td>68881</td>\n",
       "    </tr>\n",
       "    <tr>\n",
       "      <th>bakery</th>\n",
       "      <td>770435</td>\n",
       "      <td>103019</td>\n",
       "      <td>247374</td>\n",
       "    </tr>\n",
       "    <tr>\n",
       "      <th>beverages</th>\n",
       "      <td>1756158</td>\n",
       "      <td>244136</td>\n",
       "      <td>571607</td>\n",
       "    </tr>\n",
       "    <tr>\n",
       "      <th>breakfast</th>\n",
       "      <td>455837</td>\n",
       "      <td>64106</td>\n",
       "      <td>150907</td>\n",
       "    </tr>\n",
       "    <tr>\n",
       "      <th>bulk</th>\n",
       "      <td>25087</td>\n",
       "      <td>2514</td>\n",
       "      <td>5850</td>\n",
       "    </tr>\n",
       "    <tr>\n",
       "      <th>canned goods</th>\n",
       "      <td>658729</td>\n",
       "      <td>108011</td>\n",
       "      <td>245334</td>\n",
       "    </tr>\n",
       "    <tr>\n",
       "      <th>dairy eggs</th>\n",
       "      <td>3623889</td>\n",
       "      <td>452920</td>\n",
       "      <td>1100373</td>\n",
       "    </tr>\n",
       "    <tr>\n",
       "      <th>deli</th>\n",
       "      <td>674588</td>\n",
       "      <td>98098</td>\n",
       "      <td>231148</td>\n",
       "    </tr>\n",
       "    <tr>\n",
       "      <th>dry goods pasta</th>\n",
       "      <td>534052</td>\n",
       "      <td>87959</td>\n",
       "      <td>200125</td>\n",
       "    </tr>\n",
       "    <tr>\n",
       "      <th>frozen</th>\n",
       "      <td>1368221</td>\n",
       "      <td>228335</td>\n",
       "      <td>525175</td>\n",
       "    </tr>\n",
       "    <tr>\n",
       "      <th>household</th>\n",
       "      <td>437570</td>\n",
       "      <td>84926</td>\n",
       "      <td>177361</td>\n",
       "    </tr>\n",
       "    <tr>\n",
       "      <th>international</th>\n",
       "      <td>170746</td>\n",
       "      <td>26162</td>\n",
       "      <td>59083</td>\n",
       "    </tr>\n",
       "    <tr>\n",
       "      <th>meat seafood</th>\n",
       "      <td>449413</td>\n",
       "      <td>66913</td>\n",
       "      <td>158455</td>\n",
       "    </tr>\n",
       "    <tr>\n",
       "      <th>missing</th>\n",
       "      <td>48290</td>\n",
       "      <td>4181</td>\n",
       "      <td>12297</td>\n",
       "    </tr>\n",
       "    <tr>\n",
       "      <th>other</th>\n",
       "      <td>23545</td>\n",
       "      <td>3322</td>\n",
       "      <td>7544</td>\n",
       "    </tr>\n",
       "    <tr>\n",
       "      <th>pantry</th>\n",
       "      <td>1193920</td>\n",
       "      <td>181839</td>\n",
       "      <td>406946</td>\n",
       "    </tr>\n",
       "    <tr>\n",
       "      <th>personal care</th>\n",
       "      <td>274358</td>\n",
       "      <td>46916</td>\n",
       "      <td>103032</td>\n",
       "    </tr>\n",
       "    <tr>\n",
       "      <th>pets</th>\n",
       "      <td>58509</td>\n",
       "      <td>9753</td>\n",
       "      <td>24798</td>\n",
       "    </tr>\n",
       "    <tr>\n",
       "      <th>produce</th>\n",
       "      <td>6361055</td>\n",
       "      <td>788065</td>\n",
       "      <td>1930153</td>\n",
       "    </tr>\n",
       "    <tr>\n",
       "      <th>snacks</th>\n",
       "      <td>1903369</td>\n",
       "      <td>255232</td>\n",
       "      <td>607805</td>\n",
       "    </tr>\n",
       "  </tbody>\n",
       "</table>\n",
       "</div>"
      ],
      "text/plain": [
       "frequency_flag   Frequent customer  Non-frequent customer  Regular customer\n",
       "department                                                                 \n",
       "alcohol                     100491                  13271             30865\n",
       "babies                      316214                  25297             68881\n",
       "bakery                      770435                 103019            247374\n",
       "beverages                  1756158                 244136            571607\n",
       "breakfast                   455837                  64106            150907\n",
       "bulk                         25087                   2514              5850\n",
       "canned goods                658729                 108011            245334\n",
       "dairy eggs                 3623889                 452920           1100373\n",
       "deli                        674588                  98098            231148\n",
       "dry goods pasta             534052                  87959            200125\n",
       "frozen                     1368221                 228335            525175\n",
       "household                   437570                  84926            177361\n",
       "international               170746                  26162             59083\n",
       "meat seafood                449413                  66913            158455\n",
       "missing                      48290                   4181             12297\n",
       "other                        23545                   3322              7544\n",
       "pantry                     1193920                 181839            406946\n",
       "personal care               274358                  46916            103032\n",
       "pets                         58509                   9753             24798\n",
       "produce                    6361055                 788065           1930153\n",
       "snacks                     1903369                 255232            607805"
      ]
     },
     "execution_count": 124,
     "metadata": {},
     "output_type": "execute_result"
    }
   ],
   "source": [
    "#Check output\n",
    "dept_frequencyflag_crosstab"
   ]
  },
  {
   "cell_type": "code",
   "execution_count": 125,
   "id": "4e1d08b9-304e-4f38-bd3a-5bb9b913bdce",
   "metadata": {},
   "outputs": [
    {
     "data": {
      "image/png": "[encoded data removed]",
      "text/plain": [
       "<Figure size 640x480 with 1 Axes>"
      ]
     },
     "metadata": {},
     "output_type": "display_data"
    }
   ],
   "source": [
    "dept_frequencyflag_crosstab_bar = dept_frequencyflag_crosstab.plot(kind='bar', stacked =True)"
   ]
  },
  {
   "cell_type": "code",
   "execution_count": 126,
   "id": "bbb2083d-f637-4b4b-be7c-3cfad0a9e9b6",
   "metadata": {},
   "outputs": [],
   "source": [
    "# Export and save\n",
    "dept_frequencyflag_crosstab_bar.figure.savefig(os.path.join(path, '04 Analysis','Visualizations', 'dept_frequencyflag_crosstab_bar.png'))"
   ]
  },
  {
   "cell_type": "markdown",
   "id": "913dfcbc-afb9-4f62-a8da-67feb22c4b62",
   "metadata": {},
   "source": [
    "#### To find the loyal customer count"
   ]
  },
  {
   "cell_type": "code",
   "execution_count": 127,
   "id": "ca4f1962-d96c-4567-83f5-889bb44548bb",
   "metadata": {},
   "outputs": [
    {
     "data": {
      "text/plain": [
       "loyalty_flag\n",
       "Regular customer    15876776\n",
       "Loyal customer      10284093\n",
       "New customer         4803695\n",
       "Name: count, dtype: int64"
      ]
     },
     "execution_count": 127,
     "metadata": {},
     "output_type": "execute_result"
    }
   ],
   "source": [
    "# Get the amount of loyal customers\n",
    "ords_prods_custs_dept_merged['loyalty_flag'].value_counts(dropna = False)"
   ]
  },
  {
   "cell_type": "code",
   "execution_count": 130,
   "id": "e651ebf6-f8ee-4f8f-af90-47588b376e31",
   "metadata": {},
   "outputs": [
    {
     "data": {
      "image/png": "[encoded data removed]",
      "text/plain": [
       "<Figure size 640x480 with 1 Axes>"
      ]
     },
     "metadata": {},
     "output_type": "display_data"
    }
   ],
   "source": [
    "#Create pie chart\n",
    "loyalty_flag_pie = ords_prods_custs_dept_merged['loyalty_flag'].value_counts().plot.pie(autopct=('%1.f%%'))"
   ]
  },
  {
   "cell_type": "code",
   "execution_count": 131,
   "id": "0f24c583-3451-4557-9fc7-7ba2928c30ad",
   "metadata": {},
   "outputs": [],
   "source": [
    "#Export pie chart \n",
    "loyalty_flag_pie.figure.savefig(os.path.join(path, '04 Analysis','Visualizations', 'loyalty_flag_pie_chart.png'))"
   ]
  },
  {
   "cell_type": "markdown",
   "id": "c6731358-5751-4764-b832-db14a49d0020",
   "metadata": {},
   "source": [
    "### Export dataframe"
   ]
  },
  {
   "cell_type": "code",
   "execution_count": 132,
   "id": "3cc5963e-5b1f-4518-8c11-e7f4b92ef581",
   "metadata": {},
   "outputs": [],
   "source": [
    "# Export dataframe as a pickle file\n",
    "ords_prods_custs_dept_merged.to_pickle(os.path.join(path, '02 Data','Prepared Data', 'instacart_final.pkl')) "
   ]
  },
  {
   "cell_type": "code",
   "execution_count": null,
   "id": "caf3bd1a-b4bb-45b3-bf12-56d1bb34a3b6",
   "metadata": {},
   "outputs": [],
   "source": []
  }
 ],
 "metadata": {
  "kernelspec": {
   "display_name": "Python 3 (ipykernel)",
   "language": "python",
   "name": "python3"
  },
  "language_info": {
   "codemirror_mode": {
    "name": "ipython",
    "version": 3
   },
   "file_extension": ".py",
   "mimetype": "text/x-python",
   "name": "python",
   "nbconvert_exporter": "python",
   "pygments_lexer": "ipython3",
   "version": "3.12.7"
  }
 },
 "nbformat": 4,
 "nbformat_minor": 5
}
