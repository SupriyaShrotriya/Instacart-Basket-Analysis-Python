{
 "cells": [
  {
   "cell_type": "code",
   "execution_count": null,
   "id": "b2496c7e-855d-4581-8e67-ca059a86f896",
   "metadata": {},
   "outputs": [],
   "source": []
  }
 ],
 "metadata": {
  "kernelspec": {
   "display_name": "",
   "name": ""
  },
  "language_info": {
   "name": ""
  }
 },
 "nbformat": 4,
 "nbformat_minor": 5
}
